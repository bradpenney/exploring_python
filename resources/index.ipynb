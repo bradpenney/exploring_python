{
 "cells": [
  {
   "cell_type": "markdown",
   "id": "9400f38b-4562-4124-821c-e96bb6ce52a4",
   "metadata": {},
   "source": [
    "# Programming Resources\n",
    "   \n",
    "- [General Coding Resources](./general_coding_resources.ipynb)\n",
    "- [Useful Videos](./useful_videos.ipynb)\n",
    "- [Glossary](./glossary.ipynb)"
   ]
  }
 ],
 "metadata": {
  "kernelspec": {
   "display_name": "Python 3 (ipykernel)",
   "language": "python",
   "name": "python3"
  },
  "language_info": {
   "codemirror_mode": {
    "name": "ipython",
    "version": 3
   },
   "file_extension": ".py",
   "mimetype": "text/x-python",
   "name": "python",
   "nbconvert_exporter": "python",
   "pygments_lexer": "ipython3",
   "version": "3.11.4"
  }
 },
 "nbformat": 4,
 "nbformat_minor": 5
}
