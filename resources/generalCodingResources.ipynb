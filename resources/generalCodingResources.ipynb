{
 "cells": [
  {
   "cell_type": "markdown",
   "id": "1d2abf6c-4989-462e-b0c6-22f26b5ccc9c",
   "metadata": {},
   "source": [
    "# General Coding Resources\n",
    "\n",
    "- [LeetCode](https://leetcode.com/) - Enhance your programming skills, expand your programming knowledge and prepare for technical interviews.\n",
    "- [Code Chef](https://www.codechef.com/)_ - A Platform for Aspiring Programmers. \n",
    "- [W3 Schools Python](https://www.w3schools.com/python/default.asp) - An excellent resource to look up how features of Python work."
   ]
  }
 ],
 "metadata": {
  "kernelspec": {
   "display_name": "Python 3 (ipykernel)",
   "language": "python",
   "name": "python3"
  },
  "language_info": {
   "codemirror_mode": {
    "name": "ipython",
    "version": 3
   },
   "file_extension": ".py",
   "mimetype": "text/x-python",
   "name": "python",
   "nbconvert_exporter": "python",
   "pygments_lexer": "ipython3",
   "version": "3.11.4"
  }
 },
 "nbformat": 4,
 "nbformat_minor": 5
}
