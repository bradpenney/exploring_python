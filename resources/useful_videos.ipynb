{
 "cells": [
  {
   "cell_type": "markdown",
   "id": "ab8021fd-de19-431a-a91d-35304c7bb8a9",
   "metadata": {},
   "source": [
    "# Useful Videos\n",
    "\n",
    "[![100+ Computer Science Terms](https://img.youtube.com/vi/-uleG_Vecis/maxresdefault.jpg)](https://youtu.be/-uleG_Vecis)"
   ]
  }
 ],
 "metadata": {
  "kernelspec": {
   "display_name": "Python 3 (ipykernel)",
   "language": "python",
   "name": "python3"
  },
  "language_info": {
   "codemirror_mode": {
    "name": "ipython",
    "version": 3
   },
   "file_extension": ".py",
   "mimetype": "text/x-python",
   "name": "python",
   "nbconvert_exporter": "python",
   "pygments_lexer": "ipython3",
   "version": "3.11.4"
  }
 },
 "nbformat": 4,
 "nbformat_minor": 5
}
