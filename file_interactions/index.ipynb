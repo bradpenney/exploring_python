{
 "cells": [
  {
   "cell_type": "markdown",
   "id": "ba23225a",
   "metadata": {},
   "source": [
    "# File Interactions\n",
    "\n",
    "Writing stand-alone programs is fun, but programming gets a lot more fun and interesting when we deal with persistent data. This section of the website will contain info about how to interact with four (4) common types of files - CSV, JSON, XML and databases.\n",
    "\n",
    "- [CSV](./csv.md)\n",
    "- [JSON](./json.md)\n",
    "- [XML](./xml.md)\n",
    "- [SQL Databases](./databases.md)"
   ]
  },
  {
   "cell_type": "markdown",
   "id": "02a129c4",
   "metadata": {},
   "source": [
    "# Using Basic `txt` Files\n",
    "\n",
    "[![Socratica: Text Files in Python](https://img.youtube.com/vi/4mX0uPQFLDU/maxresdefault.jpg)](https://youtu.be/4mX0uPQFLDU)\n",
    "\n",
    "To open a standard text file in Python, use the `open()` method.  The most basic way to do this is to by setting a variable equal to the open method:"
   ]
  },
  {
   "cell_type": "code",
   "execution_count": null,
   "id": "a0ee3022",
   "metadata": {},
   "outputs": [],
   "source": [
    "f = open(\"./my_sample_text_file.txt\")\n",
    "text = f.read()\n",
    "f.close()"
   ]
  },
  {
   "cell_type": "markdown",
   "id": "0fd25fc1",
   "metadata": {},
   "source": [
    "At this point, if the programmer were to print the contents of `my_sample_text_file.txt` (`print(text)`) then whatever is written in the text file would be printed to standard output.\n",
    "\n",
    "There is, however, a more robust way to open a file that doesn't require explicit closing and will not cause corruption if there is an error before the file is closed (or the programmer forgets to close it!).  This is done using the `with` keyword:"
   ]
  },
  {
   "cell_type": "code",
   "execution_count": null,
   "id": "c60f6bed",
   "metadata": {},
   "outputs": [],
   "source": [
    "with open(\"./my_sample_text_file.txt\") as file_object:\n",
    "    my_text = file_object.read()\n",
    "    \n",
    "print(my_text)"
   ]
  },
  {
   "cell_type": "markdown",
   "id": "26ad9b88",
   "metadata": {},
   "source": [
    "The advantage of this method (other than it is a little shorter) is that Python will handle any exception that occurs and will close the file automatically. This means that even if an exception occurs or something goes wrong, the file gets closed (meaning it is safe from corruption and the computer's memory is managed properly).\n",
    "\n",
    "```{warning}\n",
    "Attempting to open a file that doesn't exist will throw an `Error` unless explicitly handled.\n",
    "```\n",
    "\n",
    "The `open` function accepts several arguments, the first being the filename, and the second being the file \"mode\".  Possible modes include `r` (read), `w` (write), and `a` (append). \n",
    "\n",
    "```{note}\n",
    "The `open` method accepts more arugments, this discussion isn't exhaustive.\n",
    "```\n",
    "\n",
    "When opening a file in write mode, Python will overwrite the file if it exists already, and will create the file if it doesn't.  As an example:"
   ]
  },
  {
   "cell_type": "code",
   "execution_count": null,
   "id": "2f9503dc",
   "metadata": {},
   "outputs": [],
   "source": [
    "motorcycles = ['kawasaki', 'honda', 'ducati', 'bmw', 'suzuki']\n",
    "\n",
    "with open(\"motorcycles.txt\", \"w\") as f:\n",
    "    for motorcycle in motorcycles:\n",
    "        print(motorcycle, file=f) # each entry on its own line\n",
    "        f.write(motorcycle) # all entries together, no spaces or line breaks"
   ]
  },
  {
   "cell_type": "markdown",
   "id": "a67a6e33",
   "metadata": {},
   "source": [
    "As mentioned above, the default behaviour of `\"w\"` is to overwrite the file, thereby losing anything that was pre-existing in the file.  While this is advantageous in some circumstances, a more cautious apprach would be to use `\"a\"` (append), which simply writes to the end of the file.  Append will also create the file if it doesn't exist, so it is usually the better choice unless the requirement is explicitly to overwrite existing text files. "
   ]
  }
 ],
 "metadata": {
  "jupytext": {
   "formats": "md,ipynb",
   "main_language": "python"
  },
  "kernelspec": {
   "display_name": "Python 3 (ipykernel)",
   "language": "python",
   "name": "python3"
  },
  "language_info": {
   "codemirror_mode": {
    "name": "ipython",
    "version": 3
   },
   "file_extension": ".py",
   "mimetype": "text/x-python",
   "name": "python",
   "nbconvert_exporter": "python",
   "pygments_lexer": "ipython3",
   "version": "3.11.4"
  }
 },
 "nbformat": 4,
 "nbformat_minor": 5
}
