{
 "cells": [
  {
   "cell_type": "markdown",
   "id": "ba23225a",
   "metadata": {},
   "source": [
    "# File Interactions\n",
    "\n",
    "File interaction in Python is an essential skill for developers because it allows you to read, write, and manipulate data stored in files on your computer. Understanding how to handle files not only enables you to process real-world data efficiently but also ensures data integrity and proper memory management. \n",
    "\n",
    "## Opening and Reading Files\n",
    "\n",
    "To interact with files in Python, you start by opening them. The primary method for opening a standard text file in Python is the `open()` method. The basic approach is to assign the result of `open()` to a variable, which creates a file object:"
   ]
  },
  {
   "cell_type": "code",
   "execution_count": 1,
   "id": "a0ee3022",
   "metadata": {},
   "outputs": [],
   "source": [
    "f = open(\"./my_sample_text_file.txt\")\n",
    "text = f.read()\n",
    "f.close()"
   ]
  },
  {
   "cell_type": "markdown",
   "id": "0fd25fc1",
   "metadata": {},
   "source": [
    "This code opens the file named `my_sample_text_file.txt`, reads its contents, assigns them to the text variable, and then explicitly closes the file using `f.close()`. After this, you can print the contents of the file to the standard output.\n",
    "\n",
    "## Using the `with` Keyword\n",
    "\n",
    "However, Python provides a more robust and safer way to handle files using the `with` keyword:"
   ]
  },
  {
   "cell_type": "code",
   "execution_count": null,
   "id": "c60f6bed",
   "metadata": {},
   "outputs": [],
   "source": [
    "with open(\"./my_sample_text_file.txt\") as file_object:\n",
    "    my_text = file_object.read()\n",
    "    \n",
    "print(my_text)"
   ]
  },
  {
   "cell_type": "markdown",
   "id": "26ad9b88",
   "metadata": {},
   "source": [
    "This approach not only simplifies the code but also ensures that Python handles any exceptions that might occur and automatically closes the file. Even if an error occurs or if the programmer forgets to close the file, the `with` statement guarantees proper file closure and memory management.\n",
    "\n",
    "## File Modes\n",
    "\n",
    "When opening a file, you can specify a file mode, which determines the type of interaction you intend to perform. Common file modes include:\n",
    "\n",
    "- `r` (read): Opens the file for reading.\n",
    "- `w` (write): Opens the file for writing and overwrites it if it already exists.\n",
    "- `a` (append): Opens the file for writing but appends data to the end of the file.\n",
    "\n",
    "For example, you can write a list of motorcycles to a file using the `w` mode:"
   ]
  },
  {
   "cell_type": "code",
   "execution_count": 2,
   "id": "2f9503dc",
   "metadata": {},
   "outputs": [],
   "source": [
    "motorcycles = ['kawasaki', 'honda', 'ducati', 'bmw', 'suzuki']\n",
    "\n",
    "with open(\"motorcycles.txt\", \"w\") as f:\n",
    "    for motorcycle in motorcycles:\n",
    "        print(motorcycle, file=f) # each entry on its own line\n",
    "        f.write(motorcycle) # all entries together, no spaces or line breaks"
   ]
  },
  {
   "attachments": {},
   "cell_type": "markdown",
   "id": "18647089-9b1a-4295-b115-c7a3a8368dae",
   "metadata": {},
   "source": [
    "## Further Resources\n",
    "\n",
    "[![Socratica: Text Files in Python](https://img.youtube.com/vi/4mX0uPQFLDU/maxresdefault.jpg)](https://youtu.be/4mX0uPQFLDU)"
   ]
  }
 ],
 "metadata": {
  "jupytext": {
   "formats": "md,ipynb",
   "main_language": "python"
  },
  "kernelspec": {
   "display_name": "Python 3 (ipykernel)",
   "language": "python",
   "name": "python3"
  },
  "language_info": {
   "codemirror_mode": {
    "name": "ipython",
    "version": 3
   },
   "file_extension": ".py",
   "mimetype": "text/x-python",
   "name": "python",
   "nbconvert_exporter": "python",
   "pygments_lexer": "ipython3",
   "version": "3.11.4"
  }
 },
 "nbformat": 4,
 "nbformat_minor": 5
}
