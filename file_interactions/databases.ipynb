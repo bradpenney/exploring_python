{
 "cells": [
  {
   "cell_type": "markdown",
   "id": "ba2e4a5c",
   "metadata": {},
   "source": [
    "\n",
    "# Databases with Python\n",
    "\n",
    "Interacting with databases programmatically is a foundational skill for all Python developers.  The basic concepts with all *Relational Database Management Systems* (RDBMS) are similar, whether Oracle, IBM DB2, SQL Server, or MySQL (and many others).  Interestingly, Python has a built-in module that supports the use of a light-weight database - SQLite3 (see [`python_sqlite3`](../modules_packages/core_modules/sqlite3.md). It isn't an enterprise-grade database, but is very useful for both learning (teaching) purposes, and also building back-end tracking for Python applications.\n",
    "\n",
    "As an example, it would be very common for a web-scraping application to store its information in an SQLite3 database.  User scores could be stored in one, or perhaps reference materials such as glossaries, projects, or anything else that should be tracked persistently through application startups/shutdowns."
   ]
  }
 ],
 "metadata": {
  "jupytext": {
   "formats": "ipynb,md:myst",
   "main_language": "python"
  },
  "kernelspec": {
   "display_name": "Python 3 (ipykernel)",
   "language": "python",
   "name": "python3"
  },
  "language_info": {
   "codemirror_mode": {
    "name": "ipython",
    "version": 3
   },
   "file_extension": ".py",
   "mimetype": "text/x-python",
   "name": "python",
   "nbconvert_exporter": "python",
   "pygments_lexer": "ipython3",
   "version": "3.11.3"
  }
 },
 "nbformat": 4,
 "nbformat_minor": 5
}
