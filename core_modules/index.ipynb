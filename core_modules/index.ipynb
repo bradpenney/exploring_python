{
 "cells": [
  {
   "cell_type": "markdown",
   "id": "f7f24070",
   "metadata": {},
   "source": [
    "# Core Python Modules\n",
    "\n",
    "Python, renowned for its simplicity and versatility, owes much of its power to a vast repository of built-in functionality, commonly referred to as core modules. These core modules are integral components of the Python programming language and can be likened to a treasure trove of tools and capabilities that developers can readily access and utilize in their projects.\n",
    "\n",
    "Imagine Python as a toolbox, and these core modules as the assortment of finely crafted instruments within. They cover an extensive range of tasks, from handling files and manipulating data to networking, mathematical calculations, and even interfacing with the operating system. These modules are like the foundation upon which countless Python applications are built.\n",
    "\n",
    "In a standard Python installation, these core modules reside in a designated directory structure, typically located at `/usr/lib/<pythonVersion>`. For instance, in October 2023, with Python 3.12 as the current version, you would find these modules at `/usr/lib/python3.12`. This directory houses an array of Python's built-in libraries, each designed to serve a specific purpose and facilitate a wide spectrum of programming tasks.\n",
    "\n",
    "The importance of core modules in Python cannot be overstated. They save developers considerable time and effort by providing pre-written code for common operations and functionalities. Instead of reinventing the wheel with every project, Python developers can harness these modules to simplify complex tasks, enhance code efficiency, and boost productivity.\n",
    "\n",
    "Moreover, Python's core modules are meticulously documented on the Python Documentation website, serving as an invaluable resource for programmers at all skill levels. This documentation not only explains the functionality of each module but also provides examples, usage guidelines, and reference materials. It's like having a comprehensive guidebook that helps developers tap into the full potential of Python.\n",
    "\n",
    "The [Python Documentation](https://docs.python.org/3/) website contains information about all the amazing functionality that is built into the Python programming language.\n",
    "\n",
    "- [`datetime`](./datetime.ipynb)\n",
    "- [`logging`](./logging.ipynb)\n",
    "- [`os`](./os.ipynb)\n",
    "- [`sqlite3`](./sqlite3.ipynb)\n",
    "- [`statistics`](./statistics.ipynb)\n",
    "- [`subprocess`](./subprocess.ipynb)\n",
    "- [`webbrowser`](./webbrowser.md)"
   ]
  },
  {
   "cell_type": "code",
   "execution_count": null,
   "id": "670a611e-ebbd-4176-955c-790ec49a1c28",
   "metadata": {},
   "outputs": [],
   "source": []
  }
 ],
 "metadata": {
  "jupytext": {
   "cell_metadata_filter": "-all",
   "formats": "ipynb,md:myst",
   "main_language": "python",
   "notebook_metadata_filter": "-all"
  },
  "kernelspec": {
   "display_name": "Python 3 (ipykernel)",
   "language": "python",
   "name": "python3"
  },
  "language_info": {
   "codemirror_mode": {
    "name": "ipython",
    "version": 3
   },
   "file_extension": ".py",
   "mimetype": "text/x-python",
   "name": "python",
   "nbconvert_exporter": "python",
   "pygments_lexer": "ipython3",
   "version": "3.11.4"
  }
 },
 "nbformat": 4,
 "nbformat_minor": 5
}
