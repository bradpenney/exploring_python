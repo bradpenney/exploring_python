{
 "cells": [
  {
   "cell_type": "markdown",
   "id": "f7f24070",
   "metadata": {},
   "source": [
    "# Core Python Modules\n",
    "\n",
    "In a standard installation of Python, the code modules can be found at `/usr/lib/<pythonVersion>`.  As of October 2022, the current version of Python is 3.10, so the modules can be found at `/usr/lib/python3.10/`. \n",
    "\n",
    "The [Python Documentation](https://docs.python.org/3/) website contains information about all the amazing functionality that is built into the Python programming language.\n",
    "\n",
    "- [`datetime`](./datetime.md)\n",
    "- [`logging`](./logging.md)\n",
    "- [`os`](./os.md)\n",
    "- [`sqlite3`](./sqlite3.md)\n",
    "- [`statistics`](./statistics.md)\n",
    "- [`subprocess`](./subprocess.md)\n",
    "- [`webbrowser`](./webbrowser.md)"
   ]
  }
 ],
 "metadata": {
  "jupytext": {
   "cell_metadata_filter": "-all",
   "formats": "ipynb,md:myst",
   "main_language": "python",
   "notebook_metadata_filter": "-all"
  },
  "kernelspec": {
   "display_name": "Python 3 (ipykernel)",
   "language": "python",
   "name": "python3"
  },
  "language_info": {
   "codemirror_mode": {
    "name": "ipython",
    "version": 3
   },
   "file_extension": ".py",
   "mimetype": "text/x-python",
   "name": "python",
   "nbconvert_exporter": "python",
   "pygments_lexer": "ipython3",
   "version": "3.11.3"
  }
 },
 "nbformat": 4,
 "nbformat_minor": 5
}
