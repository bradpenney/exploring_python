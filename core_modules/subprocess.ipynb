{
 "cells": [
  {
   "cell_type": "markdown",
   "id": "122b9bb7-3ff3-428e-983a-4e52d676f7d0",
   "metadata": {},
   "source": [
    "# `subprocess` Module\n",
    "\n",
    "In a standard installation of Linux, the `subprocess` module can be found at `/usr/lib/python3.10/subprocess.py`."
   ]
  }
 ],
 "metadata": {
  "kernelspec": {
   "display_name": "Python 3 (ipykernel)",
   "language": "python",
   "name": "python3"
  },
  "language_info": {
   "codemirror_mode": {
    "name": "ipython",
    "version": 3
   },
   "file_extension": ".py",
   "mimetype": "text/x-python",
   "name": "python",
   "nbconvert_exporter": "python",
   "pygments_lexer": "ipython3",
   "version": "3.11.4"
  }
 },
 "nbformat": 4,
 "nbformat_minor": 5
}
