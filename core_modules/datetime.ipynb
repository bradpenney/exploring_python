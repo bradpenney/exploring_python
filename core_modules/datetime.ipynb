{
 "cells": [
  {
   "cell_type": "markdown",
   "id": "30555cd1",
   "metadata": {},
   "source": [
    "# `datetime` Module\n",
    "\n",
    "The `datetime` module supplies classes for manipulating dates and times.  The official documentation can be found [here](https://docs.python.org/3/library/datetime.html).  As with all other core modules, to get started add the standard import line to the top of the program:"
   ]
  },
  {
   "cell_type": "code",
   "execution_count": null,
   "id": "9958c76f",
   "metadata": {},
   "outputs": [],
   "source": [
    "import datetime"
   ]
  },
  {
   "cell_type": "markdown",
   "id": "7c7d4be6",
   "metadata": {},
   "source": [
    "## Key Functions\n",
    "\n",
    "### `date()`\n",
    "\n",
    "Using the `datetime.date()` function, Python creates a `datetime` object that is a date on the Gregorian calendar.  It is used as follows:"
   ]
  },
  {
   "cell_type": "code",
   "execution_count": null,
   "id": "bd721e57",
   "metadata": {},
   "outputs": [],
   "source": [
    "british_north_america_act = datetime.date(1871, 7, 1)\n",
    "\n",
    "print(f\"The British North America Act made Canada an independent country on {british_north_america_act}\")\n",
    "# TODO: add time(), datetime() and today()"
   ]
  },
  {
   "cell_type": "markdown",
   "id": "dc3439ea",
   "metadata": {},
   "source": [
    "## Resources\n",
    "\n",
    "[![Socratica - DateTime Module](https://img.youtube.com/vi/RjMbCUpvIgw/maxresdefault.jpg)](https://youtu.be/RjMbCUpvIgw)    "
   ]
  },
  {
   "cell_type": "code",
   "execution_count": null,
   "id": "5b496a4a",
   "metadata": {},
   "outputs": [],
   "source": []
  }
 ],
 "metadata": {
  "jupytext": {
   "cell_metadata_filter": "-all",
   "formats": "ipynb,md:myst",
   "main_language": "python",
   "notebook_metadata_filter": "-all"
  },
  "kernelspec": {
   "display_name": "Python 3 (ipykernel)",
   "language": "python",
   "name": "python3"
  },
  "language_info": {
   "codemirror_mode": {
    "name": "ipython",
    "version": 3
   },
   "file_extension": ".py",
   "mimetype": "text/x-python",
   "name": "python",
   "nbconvert_exporter": "python",
   "pygments_lexer": "ipython3",
   "version": "3.11.3"
  }
 },
 "nbformat": 4,
 "nbformat_minor": 5
}
