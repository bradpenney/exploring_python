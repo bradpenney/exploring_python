{
 "cells": [
  {
   "cell_type": "markdown",
   "id": "878e2a35",
   "metadata": {},
   "source": [
    "# `os` Module\n",
    "\n",
    "[Offical Documentation for the OS module](https://docs.python.org/3/library/os.html?highlight=os#module-os)\n",
    "\n",
    "One of the most important modules for DevOps practitioners - the `os` module is a portable way of using operating system dependent functionality.  In a standard installation of Linux, it can be found at `/usr/lib/python3.10/os.py`.   \n",
    "\n",
    "A lot of the functionality that is built into UNIX and Linux systems is mirrored in `os`. For example, to list the contents of the current directory:"
   ]
  },
  {
   "cell_type": "code",
   "execution_count": 4,
   "id": "c8af7ed3",
   "metadata": {},
   "outputs": [
    {
     "name": "stdout",
     "output_type": "stream",
     "text": [
      "['webbrowser.md', 'statistics.md', 'logging.ipynb', 'sqlite3.md', 'datetime.ipynb', '.ipynb_checkpoints', 'logging.md', 'os.md', 'os.ipynb', 'subprocess.md', 'index.ipynb', 'errors.log', 'datetime.md', 'index.md']\n"
     ]
    }
   ],
   "source": [
    "import os\n",
    "print(os.listdir('.'))"
   ]
  },
  {
   "cell_type": "markdown",
   "id": "f611f5b4",
   "metadata": {},
   "source": [
    "## Getting Started\n",
    "\n",
    "Like other Python modules, a simple `import os` at the top of the Python program will make it methods available in the program.  The most basic usage of `os` would be to print the current working directory:"
   ]
  },
  {
   "cell_type": "code",
   "execution_count": 5,
   "id": "d6fa00ed",
   "metadata": {},
   "outputs": [
    {
     "name": "stdout",
     "output_type": "stream",
     "text": [
      "The current working directory is: /home/brad/Documents/python_website/modules_packages/core_modules\n"
     ]
    }
   ],
   "source": [
    "import os\n",
    "print(f\"The current working directory is: {os.getcwd()}\")"
   ]
  },
  {
   "cell_type": "markdown",
   "id": "54028803",
   "metadata": {},
   "source": [
    "To switch directories, use :p:`os.chdir('<path>')`, passing the target path as a string:"
   ]
  },
  {
   "cell_type": "code",
   "execution_count": 6,
   "id": "221b1fe3",
   "metadata": {},
   "outputs": [
    {
     "name": "stdout",
     "output_type": "stream",
     "text": [
      "The current working directory is: /home/brad/Documents/python_website/modules_packages/core_modules\n",
      "The current working directory is: /home/brad/Documents/python_website/modules_packages\n"
     ]
    }
   ],
   "source": [
    "import os\n",
    "print(f\"The current working directory is: {os.getcwd()}\")\n",
    "os.chdir('../') # no output\n",
    "print(f\"The current working directory is: {os.getcwd()}\")"
   ]
  },
  {
   "cell_type": "markdown",
   "id": "a2fd528b",
   "metadata": {},
   "source": [
    "## Working with Directories\n",
    "\n",
    "### Making Directories\n",
    "\n",
    "The `os` module is capable of making directories to store files such as logs in.  There are two main functions, `makedir` and `mkdirs`.  The difference between these two is that `mkdir` can only create a directory if a parent is present, whereas `makedirs` will create the parent structure as needed.  For example:"
   ]
  },
  {
   "cell_type": "code",
   "execution_count": 9,
   "id": "ab4362b8",
   "metadata": {},
   "outputs": [],
   "source": [
    "os.mkdir('./myNewDirectory/') # will work\n",
    "os.makedirs('./newParentDirectory/myNewDirectory') # will succeed"
   ]
  },
  {
   "cell_type": "markdown",
   "id": "0e4301ac",
   "metadata": {},
   "source": [
    "Both `os.mkdir()` and `os.makdirs` will fail if the directory already exists (a very common scenario when running a program that generates logs).\n",
    "\n",
    "```{note}\n",
    "Use `os.makedirs()` with caution.  It is notorious for creating difficult-to-track logical errors.  If the directory structure does not exist, it will be created, even if there is an error in the path.  So it would be very easy to create `~/newParentDirectry/myNewDirectory` (note the missing \"o\" in \"Directory\").\n",
    "```\n",
    "\n",
    "### Removing Directories\n",
    "\n",
    "Getting rid of **empty** directories is also possible.  The `os.rmdir()` and `os.removedirs()` functions work in the same way as making directories above - the `os.rmdir` will only remove one directory, wherease the `os.removedirs()` will remove all the parent structure as well.  For example:"
   ]
  },
  {
   "cell_type": "code",
   "execution_count": 10,
   "id": "57b9a051",
   "metadata": {},
   "outputs": [],
   "source": [
    "os.rmdir('./myNewDirectory') # will only remove target directory\n",
    "                             # assuming current working directory is /home/prog1700/Desktop/myNewDirectory'\n",
    "os.removedirs('./newParentDirectory/myNewDirectory') # will remove all empty directories in the path\n"
   ]
  },
  {
   "cell_type": "markdown",
   "id": "1ae791bc",
   "metadata": {},
   "source": [
    "```{note}\n",
    "    Both `os.rmdir()` and `os.removedirs()` only work with **empty** directories.  As soon as a directory contains either a file or another directory, the command will fail (or, in the case of `os.removedirs()` stop recursively walking up the file tree).  Therefore, it is possible to use either relative or absolute paths with these functions, as long as the target directories are empty.\n",
    "```"
   ]
  },
  {
   "cell_type": "markdown",
   "id": "2b1df36d",
   "metadata": {},
   "source": [
    "## Resources\n",
    "\n",
    "[![Corey Schafer - Python Tutorial: OS Module - Use Underlying Operating System Functionality](https://img.youtube.com/vi/tJxcKyFMTGo/maxresdefault.jpg)](https://youtu.be/tJxcKyFMTGo)"
   ]
  },
  {
   "cell_type": "code",
   "execution_count": null,
   "id": "aefd9c67",
   "metadata": {},
   "outputs": [],
   "source": []
  }
 ],
 "metadata": {
  "jupytext": {
   "cell_metadata_filter": "-all",
   "formats": "ipynb,md:myst",
   "main_language": "python",
   "notebook_metadata_filter": "-all"
  },
  "kernelspec": {
   "display_name": "Python 3 (ipykernel)",
   "language": "python",
   "name": "python3"
  },
  "language_info": {
   "codemirror_mode": {
    "name": "ipython",
    "version": 3
   },
   "file_extension": ".py",
   "mimetype": "text/x-python",
   "name": "python",
   "nbconvert_exporter": "python",
   "pygments_lexer": "ipython3",
   "version": "3.11.3"
  }
 },
 "nbformat": 4,
 "nbformat_minor": 5
}
