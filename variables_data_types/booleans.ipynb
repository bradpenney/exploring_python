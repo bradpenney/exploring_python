{
 "cells": [
  {
   "cell_type": "markdown",
   "id": "e5ff9d13-7a62-459a-a962-2ce125e23938",
   "metadata": {},
   "source": [
    "# Booleans\n",
    "\n",
    "Common to many programming languages, *booleans* are a binary form of variable.  A boolean will evaluate to either `True` or `False`."
   ]
  },
  {
   "cell_type": "code",
   "execution_count": 7,
   "id": "8d1bdcbd-231d-48b5-92b1-181c93de4f28",
   "metadata": {},
   "outputs": [],
   "source": [
    "python_is_awesome = True\n",
    "learning_python_is_hard = False"
   ]
  },
  {
   "cell_type": "markdown",
   "id": "644eccba-7890-4cf0-89c3-130481f537d3",
   "metadata": {},
   "source": [
    "Booleans are almost always used in conjuction with control statements such as [If/Else Statements](../control_statements/if_statements.ipynb) or [While Loops](../control_statements/while_loops.ipynb).  Here are some examples:"
   ]
  },
  {
   "cell_type": "code",
   "execution_count": 8,
   "id": "308a107c-6aab-44ec-b046-f746eaf1f69b",
   "metadata": {},
   "outputs": [
    {
     "name": "stdout",
     "output_type": "stream",
     "text": [
      "Python is Awesome!\n"
     ]
    }
   ],
   "source": [
    "if python_is_awesome:\n",
    "    print(\"Python is Awesome!\")"
   ]
  },
  {
   "cell_type": "markdown",
   "id": "6af937dc-e5c1-4a78-82db-2e7773b00272",
   "metadata": {},
   "source": [
    "The `if` statement evaluates to `True` so the print statement runs."
   ]
  },
  {
   "cell_type": "code",
   "execution_count": 9,
   "id": "dff8013e-fdd2-45d0-8837-1f01e7bd781f",
   "metadata": {},
   "outputs": [
    {
     "name": "stdout",
     "output_type": "stream",
     "text": [
      "There is no way Kevin is a secret genius\n"
     ]
    }
   ],
   "source": [
    "kevin_is_a_secret_genius = True\n",
    "\n",
    "while kevin_is_a_secret_genius:\n",
    "    print(\"There is no way Kevin is a secret genius\")\n",
    "    kevin_is_a_secret_genius = False"
   ]
  },
  {
   "cell_type": "markdown",
   "id": "a6d4a2d3-2791-431a-8ce5-b0ca7c1467c3",
   "metadata": {},
   "source": [
    "The `while` statement evaluates true on the first loop, so the print statement runs the first time, but then stops since Kevin is clearly not a secret genius. "
   ]
  }
 ],
 "metadata": {
  "kernelspec": {
   "display_name": "Python 3 (ipykernel)",
   "language": "python",
   "name": "python3"
  },
  "language_info": {
   "codemirror_mode": {
    "name": "ipython",
    "version": 3
   },
   "file_extension": ".py",
   "mimetype": "text/x-python",
   "name": "python",
   "nbconvert_exporter": "python",
   "pygments_lexer": "ipython3",
   "version": "3.11.4"
  }
 },
 "nbformat": 4,
 "nbformat_minor": 5
}
