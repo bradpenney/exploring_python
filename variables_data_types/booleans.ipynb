{
 "cells": [
  {
   "cell_type": "markdown",
   "id": "e5ff9d13-7a62-459a-a962-2ce125e23938",
   "metadata": {},
   "source": [
    "# Booleans\n",
    "\n",
    "In the realm of programming, the concept of booleans is akin to a digital switch, representing a binary state that can be either \"on\" or \"off.\" Booleans, a fundamental data type in Python, provide a simple yet powerful way to express conditions and make decisions in your code. They are the cornerstone of control statements like `if/else` statements and while loops, allowing you to create dynamic, responsive programs.\n",
    "\n",
    "Booleans can take on one of two values: `True` or `False`. These values act as signals to guide your program's logic and flow. Whether you're validating user input, iterating through data, or responding to external conditions, booleans serve as the decision-makers in your code.\n",
    "\n",
    "Let's delve into the world of booleans in Python with some practical examples:"
   ]
  },
  {
   "cell_type": "code",
   "execution_count": 5,
   "id": "8d1bdcbd-231d-48b5-92b1-181c93de4f28",
   "metadata": {},
   "outputs": [],
   "source": [
    "python_is_awesome = True\n",
    "learning_python_is_hard = False"
   ]
  },
  {
   "cell_type": "markdown",
   "id": "644eccba-7890-4cf0-89c3-130481f537d3",
   "metadata": {},
   "source": [
    "In this snippet, we've created two boolean variables, `python_is_awesome` and `learning_python_is_hard`, which can be thought of as assertions about the state of affairs in our code.\n",
    "\n",
    "Booleans come to life when they are used in conjunction with [control statements](../control_statements/index.ipynb). For instance:"
   ]
  },
  {
   "cell_type": "code",
   "execution_count": 6,
   "id": "308a107c-6aab-44ec-b046-f746eaf1f69b",
   "metadata": {},
   "outputs": [
    {
     "name": "stdout",
     "output_type": "stream",
     "text": [
      "Python is Awesome!\n"
     ]
    }
   ],
   "source": [
    "if python_is_awesome:\n",
    "    print(\"Python is Awesome!\")"
   ]
  },
  {
   "cell_type": "markdown",
   "id": "6af937dc-e5c1-4a78-82db-2e7773b00272",
   "metadata": {},
   "source": [
    "Here, the `if` statement evaluates whether `python_is_awesome` is `True`. If it is, the associated code block executes, and you'll see the message \"Python is Awesome!\" printed to the screen. This demonstrates how booleans influence the flow of your program based on conditions.\n",
    "\n",
    "Booleans are also indispensable when it comes to loops. Consider the following:"
   ]
  },
  {
   "cell_type": "code",
   "execution_count": 7,
   "id": "dff8013e-fdd2-45d0-8837-1f01e7bd781f",
   "metadata": {},
   "outputs": [
    {
     "name": "stdout",
     "output_type": "stream",
     "text": [
      "There is no way Kevin is a secret genius\n"
     ]
    }
   ],
   "source": [
    "kevin_is_a_secret_genius = True\n",
    "\n",
    "while kevin_is_a_secret_genius:\n",
    "    print(\"There is no way Kevin is a secret genius\")\n",
    "    kevin_is_a_secret_genius = False"
   ]
  },
  {
   "cell_type": "markdown",
   "id": "a6d4a2d3-2791-431a-8ce5-b0ca7c1467c3",
   "metadata": {},
   "source": [
    "In this example, the `while` loop continues to run as long as `kevin_is_a_secret_genius` is `True`. The moment it tries to execute while it is `False`, the loop terminates. This illustrates how booleans can control the repetition of tasks in your code, allowing you to automate processes efficiently."
   ]
  }
 ],
 "metadata": {
  "kernelspec": {
   "display_name": "Python 3 (ipykernel)",
   "language": "python",
   "name": "python3"
  },
  "language_info": {
   "codemirror_mode": {
    "name": "ipython",
    "version": 3
   },
   "file_extension": ".py",
   "mimetype": "text/x-python",
   "name": "python",
   "nbconvert_exporter": "python",
   "pygments_lexer": "ipython3",
   "version": "3.11.4"
  }
 },
 "nbformat": 4,
 "nbformat_minor": 5
}
