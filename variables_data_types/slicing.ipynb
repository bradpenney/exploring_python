{
 "cells": [
  {
   "cell_type": "markdown",
   "id": "157876a4-4167-434d-afb3-0f5741ac4b09",
   "metadata": {},
   "source": [
    "# Slicing Python Variables\n",
    "\n",
    "Slicing is a powerful technique that allows you to extract specific portions of data from lists, strings, and tuples. It provides you with the ability to finely control what data you need, whether it's from the beginning, end, or anywhere in between. This slicing capability is governed by both positive and negative index systems, making it a versatile tool for data manipulation.\n",
    "\n",
    "Consider the following index systems for a list:"
   ]
  },
  {
   "cell_type": "code",
   "execution_count": 11,
   "id": "8a4e631b-f957-4ff1-966f-df902cdfa69b",
   "metadata": {},
   "outputs": [
    {
     "name": "stdout",
     "output_type": "stream",
     "text": [
      "Saturday\n",
      "Wednesday\n"
     ]
    }
   ],
   "source": [
    "days = [\"Monday\", \"Tuesday\", \"Wednesday\", \"Thursday\", \"Friday\", \"Saturday\", \"Sunday\"]\n",
    "# Positive index system\n",
    "#   0      1      2      3      4      5      6\n",
    "# Negative index system\n",
    "#  -7     -6     -5     -4     -3     -2     -1\n",
    "print(days[-2])\n",
    "print(days[2])"
   ]
  },
  {
   "cell_type": "markdown",
   "id": "30392459-2ec1-4ac9-b621-ef164e93f652",
   "metadata": {},
   "source": [
    "Easily access specific portions of a list using slicing. For example, to access the 2nd, 3rd, and 4th items of a list named days, you can use the following code:"
   ]
  },
  {
   "cell_type": "code",
   "execution_count": 12,
   "id": "226b973b-a1a6-4b19-a40b-5314392f1243",
   "metadata": {},
   "outputs": [
    {
     "name": "stdout",
     "output_type": "stream",
     "text": [
      "['Tuesday', 'Wednesday', 'Thursday']\n"
     ]
    }
   ],
   "source": [
    "days = [\"Monday\", \"Tuesday\", \"Wednesday\", \"Thursday\", \"Friday\", \"Saturday\", \"Sunday\"]\n",
    "sliced_days = days[1:4]\n",
    "print(sliced_days)"
   ]
  },
  {
   "cell_type": "markdown",
   "id": "b7b6b0e0-fa65-4a28-ad4f-ba26d244ae56",
   "metadata": {},
   "source": [
    "Retrieve the first three items of a list by simply omitting the starting index:"
   ]
  },
  {
   "cell_type": "code",
   "execution_count": 13,
   "id": "99bdfb26-8371-48f6-9627-06b572894463",
   "metadata": {},
   "outputs": [
    {
     "name": "stdout",
     "output_type": "stream",
     "text": [
      "['Monday', 'Tuesday', 'Wednesday']\n"
     ]
    }
   ],
   "source": [
    "days = [\"Monday\", \"Tuesday\", \"Wednesday\", \"Thursday\", \"Friday\", \"Saturday\", \"Sunday\"]\n",
    "first_three_days = days[:3]\n",
    "print(first_three_days)"
   ]
  },
  {
   "cell_type": "markdown",
   "id": "3174448c-ec3e-494b-8605-57365c77865c",
   "metadata": {},
   "source": [
    "To get the last three items, you can use negative indexing:"
   ]
  },
  {
   "cell_type": "code",
   "execution_count": 14,
   "id": "c1366fab-246c-4fb3-b676-ec55c92c69f0",
   "metadata": {},
   "outputs": [
    {
     "name": "stdout",
     "output_type": "stream",
     "text": [
      "['Friday', 'Saturday', 'Sunday']\n"
     ]
    }
   ],
   "source": [
    "days = [\"Monday\", \"Tuesday\", \"Wednesday\", \"Thursday\", \"Friday\", \"Saturday\", \"Sunday\"]\n",
    "last_three_days = days[-3:]\n",
    "print(last_three_days)"
   ]
  },
  {
   "cell_type": "markdown",
   "id": "50f4d95f-0b15-47d2-a516-07952f88d824",
   "metadata": {},
   "source": [
    "For everything except the last item, exclude it by slicing until one element from the end:"
   ]
  },
  {
   "cell_type": "code",
   "execution_count": 15,
   "id": "84eb254b-fd7b-4eb9-b985-5fa47947e3e3",
   "metadata": {},
   "outputs": [
    {
     "name": "stdout",
     "output_type": "stream",
     "text": [
      "['Monday', 'Tuesday', 'Wednesday', 'Thursday', 'Friday', 'Saturday']\n"
     ]
    }
   ],
   "source": [
    "days = [\"Monday\", \"Tuesday\", \"Wednesday\", \"Thursday\", \"Friday\", \"Saturday\", \"Sunday\"]\n",
    "everything_but_last = days[:-1]\n",
    "print(everything_but_last)"
   ]
  },
  {
   "cell_type": "markdown",
   "id": "d6abf8f0-a3df-4c46-afdb-e511e459c228",
   "metadata": {},
   "source": [
    "Similarly, you can exclude the last two items:"
   ]
  },
  {
   "cell_type": "code",
   "execution_count": 16,
   "id": "31d9045f-7783-4335-b86a-f061cd268036",
   "metadata": {},
   "outputs": [
    {
     "name": "stdout",
     "output_type": "stream",
     "text": [
      "['Monday', 'Tuesday', 'Wednesday', 'Thursday', 'Friday']\n"
     ]
    }
   ],
   "source": [
    "days = [\"Monday\", \"Tuesday\", \"Wednesday\", \"Thursday\", \"Friday\", \"Saturday\", \"Sunday\"]\n",
    "everything_but_last_two = days[:-2]\n",
    "print(everything_but_last_two)"
   ]
  },
  {
   "cell_type": "markdown",
   "id": "318cf99e-8e38-4d5e-b750-f24da416b50c",
   "metadata": {},
   "source": [
    "## Slicing Strings and Tuples\n",
    "\n",
    "Strings and tuples share the same slicing principles as lists. You can effortlessly extract portions of text from a string or elements from a tuple using slicing. For example, consider a string called text:"
   ]
  },
  {
   "cell_type": "code",
   "execution_count": 17,
   "id": "5a67261e-511a-44aa-adf8-6b3ffc753cfd",
   "metadata": {},
   "outputs": [
    {
     "name": "stdout",
     "output_type": "stream",
     "text": [
      "World\n"
     ]
    }
   ],
   "source": [
    "text = \"Hello, World!\"\n",
    "sliced_text = text[7:12]\n",
    "print(sliced_text)"
   ]
  }
 ],
 "metadata": {
  "kernelspec": {
   "display_name": "Python 3 (ipykernel)",
   "language": "python",
   "name": "python3"
  },
  "language_info": {
   "codemirror_mode": {
    "name": "ipython",
    "version": 3
   },
   "file_extension": ".py",
   "mimetype": "text/x-python",
   "name": "python",
   "nbconvert_exporter": "python",
   "pygments_lexer": "ipython3",
   "version": "3.11.4"
  }
 },
 "nbformat": 4,
 "nbformat_minor": 5
}
