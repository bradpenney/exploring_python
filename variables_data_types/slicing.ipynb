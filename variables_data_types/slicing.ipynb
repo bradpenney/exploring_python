{
 "cells": [
  {
   "cell_type": "markdown",
   "id": "d5127813-55bb-44b6-b61f-82c878d470ad",
   "metadata": {},
   "source": [
    "# Slicing Python Variables\n",
    "\n",
    "Lists, strings, and tuples have a positive index system:\n",
    "\n",
    "``` python\n",
    "    [\"Mon\", \"Tue\", \"Wed\", \"Thu\", \"Fri\", \"Sat\", \"Sun\"]\n",
    "       0      1      2      3      4      5      6\n",
    "```\n",
    "And they have a negative index system as well:\n",
    "\n",
    "``` python\n",
    "    [\"Mon\", \"Tue\", \"Wed\", \"Thu\", \"Fri\", \"Sat\", \"Sun\"]\n",
    "      -7     -6     -5     -4     -3     -2     -1\n",
    "```\n",
    "In a list, the 2nd, 3rd, and 4th items can be accessed with:\n",
    "\n",
    "```python\n",
    "days = [\"Mon\", \"Tue\", \"Wed\", \"Thu\", \"Fri\", \"Sat\", \"Sun\"]\n",
    "days[1:4]\n",
    "```\n",
    "\n",
    "First three items of a list:\n",
    "\n",
    "```python\n",
    "days = [\"Mon\", \"Tue\", \"Wed\", \"Thu\", \"Fri\", \"Sat\", \"Sun\"]\n",
    "days[:3]\n",
    "```\n",
    "\n",
    "Last three items of a list:\n",
    "\n",
    "```python\n",
    "days = [\"Mon\", \"Tue\", \"Wed\", \"Thu\", \"Fri\", \"Sat\", \"Sun\"]\n",
    "days[-3:]\n",
    "```\n",
    "\n",
    "Everything but the last:\n",
    "\n",
    "```python\n",
    "days = [\"Mon\", \"Tue\", \"Wed\", \"Thu\", \"Fri\", \"Sat\", \"Sun\"]\n",
    "days[:-1] \n",
    "```\n",
    "\n",
    "Everything but the last two:\n",
    "\n",
    "```python\n",
    "days = [\"Mon\", \"Tue\", \"Wed\", \"Thu\", \"Fri\", \"Sat\", \"Sun\"]\n",
    "days[:-2] \n",
    "```\n",
    "\n",
    "A dictionary value can be accessed using its corresponding dictionary key:\n",
    "\n",
    "```python\n",
    "phone_numbers = {\"Fred Flintstone\":\"+37682929928\",\"Barney Rubble\":\"+423998200919\"}\n",
    "phone_numbers[\"Barney Rubble\"]\n",
    "```\n",
    "\n",
    "Credit: *Python Mega Course* by Ardit Sulce on Udemy"
   ]
  }
 ],
 "metadata": {
  "kernelspec": {
   "display_name": "Python 3 (ipykernel)",
   "language": "python",
   "name": "python3"
  },
  "language_info": {
   "codemirror_mode": {
    "name": "ipython",
    "version": 3
   },
   "file_extension": ".py",
   "mimetype": "text/x-python",
   "name": "python",
   "nbconvert_exporter": "python",
   "pygments_lexer": "ipython3",
   "version": "3.11.4"
  }
 },
 "nbformat": 4,
 "nbformat_minor": 5
}
