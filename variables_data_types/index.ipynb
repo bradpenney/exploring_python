{
 "cells": [
  {
   "cell_type": "markdown",
   "id": "5d7b9ac2",
   "metadata": {},
   "source": [
    "# Variables and Data Types"
   ]
  },
  {
   "cell_type": "markdown",
   "id": "05d902d4",
   "metadata": {},
   "source": [
    "The foundational building block of (all) programming languages are *variables*.  They are often described as \"buckets\" to novice programmers - a place where various data (values) can be stored and retrieved by the program while it executes."
   ]
  },
  {
   "cell_type": "markdown",
   "id": "56641b87",
   "metadata": {},
   "source": [
    "## Primitives\n",
    "- [Strings](./strings.md)\n",
    "- [Integers](./integers.md)\n",
    "- [Floats](./floats.md)\n",
    "\n",
    "## Data Types\n",
    "- [Lists](./lists.md)\n",
    "- [Dictionaries](./dictionaries.md)\n",
    "- [Tuples](./tuples.md)"
   ]
  }
 ],
 "metadata": {
  "jupytext": {
   "cell_metadata_filter": "-all",
   "formats": "md,ipynb",
   "main_language": "python",
   "notebook_metadata_filter": "-all"
  },
  "kernelspec": {
   "display_name": "Python 3 (ipykernel)",
   "language": "python",
   "name": "python3"
  },
  "language_info": {
   "codemirror_mode": {
    "name": "ipython",
    "version": 3
   },
   "file_extension": ".py",
   "mimetype": "text/x-python",
   "name": "python",
   "nbconvert_exporter": "python",
   "pygments_lexer": "ipython3",
   "version": "3.11.3"
  }
 },
 "nbformat": 4,
 "nbformat_minor": 5
}
