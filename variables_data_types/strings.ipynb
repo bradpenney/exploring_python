{
 "cells": [
  {
   "cell_type": "markdown",
   "id": "12c58d9a",
   "metadata": {},
   "source": [
    "# Strings\n",
    "\n",
    "Whenever a Python uses a block of text (of any size) it is called a `string`. They are always surrounded by either single quotes (`'myString'`) or double quotes (`\"myString\"`).\n",
    "\n",
    "Strings have many built-in methods (manipulators) in Python, such as changing the letters to upper / lower case or breaking up (slicing) a string based on white space (or any character).\n",
    "\n",
    "Strings can be sliced, see [\"Slicing\"](../slicing/index.md) for more details.\n",
    "\n",
    "Strings are declared as follows:"
   ]
  },
  {
   "cell_type": "code",
   "execution_count": 13,
   "id": "45d1761f",
   "metadata": {},
   "outputs": [],
   "source": [
    "# Declaring basic strings\n",
    "myName = \"Brad\"\n",
    "location = 'Bridgewater'\n",
    "occupation = 'IT Specialist'"
   ]
  },
  {
   "cell_type": "markdown",
   "id": "093c372e",
   "metadata": {},
   "source": [
    "```{note}\n",
    "Strings can be surrounded by either single quotes (`''`) or double quotes (`\"\"`). If for some reason, a string must include both single and double quotes, backslash (\\\\) can be used as escape character. This forces Python to interpret the character following the backslash literally, thereby ignoring the quotes.\n",
    "```"
   ]
  },
  {
   "cell_type": "markdown",
   "id": "003526f9",
   "metadata": {},
   "source": [
    "## String Methods\n",
    "\n",
    "Strings can accept methods which alter the contents of the string. Some examples of string methods that are built into Python include:"
   ]
  },
  {
   "cell_type": "code",
   "execution_count": 14,
   "id": "fd5a5d63",
   "metadata": {},
   "outputs": [
    {
     "name": "stdout",
     "output_type": "stream",
     "text": [
      "MASTERY BY ROBERT GREENE\n",
      "mastery by robert greene\n",
      "Mastery By Robert Greene\n"
     ]
    }
   ],
   "source": [
    "bookTitle = \"mastery by Robert greene\"\n",
    "print(bookTitle.upper())\n",
    "print(bookTitle.lower())\n",
    "print(bookTitle.title())"
   ]
  },
  {
   "cell_type": "markdown",
   "id": "a154226a",
   "metadata": {},
   "source": [
    "## Concatenating Strings\n",
    "\n",
    "Strings can be combined together with simple plus (`+`) signs:"
   ]
  },
  {
   "cell_type": "code",
   "execution_count": 15,
   "id": "9ebd5109",
   "metadata": {},
   "outputs": [
    {
     "name": "stdout",
     "output_type": "stream",
     "text": [
      "There was a famous scientist named AlbertEinstien\n"
     ]
    }
   ],
   "source": [
    "firstName = \"Albert\"\n",
    "lastName = \"Einstien\"\n",
    "print(\"There was a famous scientist named \" + firstName + lastName)"
   ]
  },
  {
   "cell_type": "markdown",
   "id": "7107435d",
   "metadata": {},
   "source": [
    "## Adding & Removing Whitespace\n",
    "\n",
    "Special characters can be added to strings that add whitespace. These include:\n",
    "\n",
    "1.  `\\t` which adds a tab (4 spaces)\n",
    "2.  `\\n` which adds a newline\n",
    "\n",
    "Example:"
   ]
  },
  {
   "cell_type": "code",
   "execution_count": 16,
   "id": "512031fc",
   "metadata": {},
   "outputs": [
    {
     "name": "stdout",
     "output_type": "stream",
     "text": [
      "Hello, I'm \t \t Brad!\n",
      "and you are learning \n",
      " \t Python\n"
     ]
    }
   ],
   "source": [
    "print(\"Hello, I'm \\t \\t Brad!\")\n",
    "print(\"and you are learning \\n \\t Python\")"
   ]
  },
  {
   "cell_type": "markdown",
   "id": "0c6637c9",
   "metadata": {},
   "source": [
    "Whitespace can also be stripped out using methods. These include `strip()`  (both sides), `rstrip()` (right side) and `lstrip` (left side).\n",
    "\n",
    "Example:"
   ]
  },
  {
   "cell_type": "code",
   "execution_count": 17,
   "id": "f7732790",
   "metadata": {},
   "outputs": [
    {
     "name": "stdout",
     "output_type": "stream",
     "text": [
      "Hello I am       Albert Einstein       .\n",
      "Hello I am Albert Einstein.\n",
      "Hello I am       Albert Einstein.\n",
      "Hello I am Albert Einstein       .\n"
     ]
    }
   ],
   "source": [
    "name = \"      Albert Einstein       \"\n",
    "print(\"Hello I am \" + name + \".\") # whitespace remains\n",
    "print(\"Hello I am \" + name.strip() + \".\") # whitespace stripped\n",
    "print(\"Hello I am \" + name.rstrip() + \".\") # whitespace on righ stripped\n",
    "print(\"Hello I am \" + name.lstrip() + \".\") # whitespace on left stripped"
   ]
  },
  {
   "cell_type": "code",
   "execution_count": null,
   "id": "b3c5508e",
   "metadata": {},
   "outputs": [],
   "source": []
  }
 ],
 "metadata": {
  "jupytext": {
   "formats": "ipynb,md:myst"
  },
  "kernelspec": {
   "display_name": "Python 3 (ipykernel)",
   "language": "python",
   "name": "python3"
  },
  "language_info": {
   "codemirror_mode": {
    "name": "ipython",
    "version": 3
   },
   "file_extension": ".py",
   "mimetype": "text/x-python",
   "name": "python",
   "nbconvert_exporter": "python",
   "pygments_lexer": "ipython3",
   "version": "3.11.3"
  }
 },
 "nbformat": 4,
 "nbformat_minor": 5
}
