{
 "cells": [
  {
   "cell_type": "markdown",
   "id": "73de30fb",
   "metadata": {},
   "source": [
    "# Lists\n",
    "\n",
    "Lists are one of the most useful data types in Python - they are used extensively throughout most Python programs.  Lists consist of a mutable (changable) array of values:"
   ]
  },
  {
   "cell_type": "code",
   "execution_count": null,
   "id": "5b85001f",
   "metadata": {},
   "outputs": [],
   "source": [
    "users = [\"Jim\", \"Dwight\", \"Michael\"]\n",
    "distanceInKms = [32, 97, 51, 403, 21, 53, 81]\n",
    "mixedTypes = [\"Jim\", 23, 3.14, True, \"Berzerk\"]"
   ]
  },
  {
   "cell_type": "markdown",
   "id": "3cc73005",
   "metadata": {},
   "source": [
    "Lists can be sliced, see [Slicing](../slicing/index.html) for more details."
   ]
  },
  {
   "cell_type": "markdown",
   "id": "b876fa3d",
   "metadata": {},
   "source": [
    "[![Socratica: List Comprehensions](https://img.youtube.com/vi/AhSvKGTh28Q/maxresdefault.jpg)](https://youtu.be/AhSvKGTh28Q)"
   ]
  }
 ],
 "metadata": {
  "jupytext": {
   "formats": "ipynb,md:myst"
  },
  "kernelspec": {
   "display_name": "Python 3 (ipykernel)",
   "language": "python",
   "name": "python3"
  },
  "language_info": {
   "codemirror_mode": {
    "name": "ipython",
    "version": 3
   },
   "file_extension": ".py",
   "mimetype": "text/x-python",
   "name": "python",
   "nbconvert_exporter": "python",
   "pygments_lexer": "ipython3",
   "version": "3.11.3"
  }
 },
 "nbformat": 4,
 "nbformat_minor": 5
}
