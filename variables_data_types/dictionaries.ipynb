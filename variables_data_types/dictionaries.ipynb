{
 "cells": [
  {
   "cell_type": "markdown",
   "id": "b5050da4",
   "metadata": {},
   "source": [
    "# Dictionaries\n",
    "\n",
    "Dictionaries are a powerful and flexible data structure that allows you to work with key-value pairings. Unlike simpler data types like [lists](./lists.ipynb), dictionaries offer a more complex and organized way to manage data. They are a fundamental tool for storing and retrieving information efficiently in Python. \n",
    "\n",
    "## What is a Dictionary?\n",
    "\n",
    "A dictionary in Python is a data structure that associates keys with values. These keys act as unique identifiers for values, allowing for quick and efficient retrieval. Think of a dictionary like a real-world dictionary, where you look up a word (the key) to find its definition (the value). In Python, you can use curly braces {} to create a dictionary, and you separate each key-value pair with a colon (:). For example:"
   ]
  },
  {
   "cell_type": "code",
   "execution_count": 12,
   "id": "d400c93a",
   "metadata": {},
   "outputs": [
    {
     "name": "stdout",
     "output_type": "stream",
     "text": [
      "{'mount jo': 3213.9, 'gros mourne': 4392.1}\n"
     ]
    }
   ],
   "source": [
    "# A dictionary containing mountain elevations\n",
    "mountain_elevations = {\"mount jo\": 3213.9, \"gros mourne\": 4392.1}\n",
    "print(mountain_elevations)"
   ]
  },
  {
   "cell_type": "markdown",
   "id": "d476abaf-82a9-4812-ba56-f9030aa8df6e",
   "metadata": {},
   "source": [
    "This code defines a dictionary `mountain_elevations` with mountain names as `keys` and their elevations as `values`. When you print this dictionary, you'll see the key-value pairs enclosed in curly braces. \n",
    "\n",
    "## Why Use Dictionaries?\n",
    "\n",
    "Dictionaries are invaluable in Python programming for several reasons:\n",
    "\n",
    "- **Efficient Data Retrieval**: Dictionaries provide lightning-fast access to values using keys. This makes them perfect for scenarios where you need to quickly look up information based on some identifier.\n",
    "\n",
    "- **Structured Data**: Dictionaries allow you to organize data in a structured way, associating related pieces of information. This structure is especially useful when dealing with complex data.\n",
    "\n",
    "- **Dynamic Updates**: You can easily add, modify, or remove key-value pairs within a dictionary, making it a flexible data structure for managing changing data.\n",
    "\n",
    "## Practical Use Cases\n",
    "\n",
    "Let's explore some practical use cases to illustrate the power of dictionaries:\n",
    "\n",
    "1. **Accessing Values**: You can access values in a dictionary using keys. For example:"
   ]
  },
  {
   "cell_type": "code",
   "execution_count": 13,
   "id": "9c5fc98e-778e-4fbd-935b-baae19ef6467",
   "metadata": {},
   "outputs": [
    {
     "name": "stdout",
     "output_type": "stream",
     "text": [
      "The elevation of Mount Jo is 3213.9 feet.\n"
     ]
    }
   ],
   "source": [
    "print(f\"The elevation of Mount Jo is {mountain_elevations['mount jo']} feet.\")"
   ]
  },
  {
   "cell_type": "markdown",
   "id": "64c4f1fe-beb6-4078-aa37-33f4a25b2108",
   "metadata": {},
   "source": [
    "2. **Adding and Modifying Pairs**: To add a new key-value pair or modify an existing one, simply assign a value to a key:"
   ]
  },
  {
   "cell_type": "code",
   "execution_count": 17,
   "id": "a87c86f6-0c9a-4b95-9af2-092faf3b82e7",
   "metadata": {},
   "outputs": [
    {
     "name": "stdout",
     "output_type": "stream",
     "text": [
      "{'mount jo': 3213.9, 'whiteface': 4867.3, 'gros mourne': 4387.1}\n"
     ]
    }
   ],
   "source": [
    "# Adding a new key-value pair\n",
    "mountain_elevations['whiteface'] = 4867.3\n",
    "\n",
    "# Modifying an existing pair\n",
    "mountain_elevations['gros mourne'] = 4387.1\n",
    "\n",
    "print(mountain_elevations)"
   ]
  },
  {
   "cell_type": "markdown",
   "id": "db13ee22-46b7-472c-a29c-5e739863ea31",
   "metadata": {},
   "source": [
    "3. **Removing Pairs**: You can delete key-value pairs using the `del` statement:"
   ]
  },
  {
   "cell_type": "code",
   "execution_count": 18,
   "id": "9d754eb9-f2f3-4b3d-8214-3b5cb1fa7b51",
   "metadata": {},
   "outputs": [
    {
     "name": "stdout",
     "output_type": "stream",
     "text": [
      "{'mount jo': 3213.9, 'whiteface': 4867.3}\n"
     ]
    }
   ],
   "source": [
    "del mountain_elevations['gros mourne']\n",
    "print(mountain_elevations)"
   ]
  },
  {
   "cell_type": "markdown",
   "id": "8fe922ca-96ec-4525-a839-d3573e691683",
   "metadata": {},
   "source": [
    "4. **Nesting Dictionaries**: Dictionaries can be nested within other dictionaries or lists, creating complex data structures. For instance, you can create a list of dictionaries to represent different enemies in a video game:"
   ]
  },
  {
   "cell_type": "code",
   "execution_count": 10,
   "id": "ef280bbb",
   "metadata": {},
   "outputs": [
    {
     "name": "stdout",
     "output_type": "stream",
     "text": [
      "When facing the Infantry, this enemy will try to kill you with a sword! However, once you defeat the infantry, you will gain 30 points.\n",
      "When facing the Archer, this enemy will try to kill you with arrows! However, once you defeat the archer, you will gain 20 points.\n",
      "When facing the Catapult, this enemy will try to kill you with flying rocks! However, once you defeat the catapult, you will gain 50 points.\n"
     ]
    }
   ],
   "source": [
    "infantry = {'name':'infantry', 'weapon':'a sword', 'hitpoints':50, 'damageInflicted':5, 'killPoints':30}\n",
    "archer = {'name':'archer', 'weapon':'arrows', 'hitpoints':20, 'damageInflicted':10, 'killPoints':20}\n",
    "catapult = {'name':'catapult', 'weapon':'flying rocks', 'hitpoints':10, 'killPoints':50}\n",
    "enemies = [infantry, archer, catapult]\n",
    "\n",
    "for enemy in enemies:\n",
    "  print(\"When facing the \" + enemy['name'].title() + \n",
    "     \", this enemy will try to kill you with \" + enemy['weapon'].lower() +\n",
    "     \"! However, once you defeat the \" + enemy['name'] + \", you will gain \" + str(enemy['killPoints']) + \" points.\")"
   ]
  },
  {
   "cell_type": "markdown",
   "id": "a94faa47-578b-4e91-9c8c-da1e14e3c7a7",
   "metadata": {},
   "source": [
    "These nested dictionaries within a list allow you to organize and manage game-related information efficiently.\n",
    "\n",
    "5. **Dictionaries Containing Lists**: Dictionaries can also contain lists as their values. For example, you can use a dictionary to represent a customized pizza order:"
   ]
  },
  {
   "cell_type": "code",
   "execution_count": null,
   "id": "8de1108c-507b-415d-a701-4def986a4ee2",
   "metadata": {},
   "outputs": [],
   "source": [
    "my_pizza = {\n",
    "    'crust': 'stuffed',\n",
    "    'toppings': ['pepperoni', 'bacon', 'green pepper']\n",
    "}"
   ]
  },
  {
   "cell_type": "markdown",
   "id": "d7eb33fa-bfe8-4fb5-b99d-dd6c51dc0d54",
   "metadata": {},
   "source": [
    "This dictionary contains a list of toppings as one of its values, demonstrating how dictionaries can handle diverse data structures."
   ]
  },
  {
   "cell_type": "markdown",
   "id": "b9c8451d",
   "metadata": {},
   "source": [
    "## Further Resources\n",
    "\n",
    "[![Socratica: Python Dictionaries](https://img.youtube.com/vi/XCcpzWs-CI4/maxresdefault.jpg)](https://youtu.be/XCcpzWs-CI4)"
   ]
  },
  {
   "cell_type": "code",
   "execution_count": null,
   "id": "42b424e3-44c0-4888-841e-46dcbddbbf49",
   "metadata": {},
   "outputs": [],
   "source": []
  }
 ],
 "metadata": {
  "jupytext": {
   "formats": "ipynb,md:myst"
  },
  "kernelspec": {
   "display_name": "Python 3 (ipykernel)",
   "language": "python",
   "name": "python3"
  },
  "language_info": {
   "codemirror_mode": {
    "name": "ipython",
    "version": 3
   },
   "file_extension": ".py",
   "mimetype": "text/x-python",
   "name": "python",
   "nbconvert_exporter": "python",
   "pygments_lexer": "ipython3",
   "version": "3.11.4"
  }
 },
 "nbformat": 4,
 "nbformat_minor": 5
}
