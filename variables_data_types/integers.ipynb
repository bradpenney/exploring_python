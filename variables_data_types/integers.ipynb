{
 "cells": [
  {
   "cell_type": "markdown",
   "id": "d6d98218",
   "metadata": {},
   "source": [
    "# Integers\n",
    "\n",
    "In Python (as most programming languages), numbers are treated differently than [`strings`](./strings.md).  They are interpreted as numbers, therefore standard mathematical operations can be performed on them.  Integers are whole numbers (as opposed to [`floats`](./floats.md)).  Any two integers can be declared and then used mathematically. \n",
    "\n",
    "```{note}\n",
    "Be careful of division in Python - the quotient of two `ints` could result in a `float` if the numbers cannot be divided evenly.\n",
    "```\n",
    "\n",
    "Declaring `ints`, as all other variables in Python, is simple syntax:"
   ]
  },
  {
   "cell_type": "code",
   "execution_count": 3,
   "id": "34037814",
   "metadata": {},
   "outputs": [],
   "source": [
    "# Declaring basic integer values   \n",
    "rank = 10\n",
    "eggs = 12\n",
    "people = 3"
   ]
  },
  {
   "cell_type": "markdown",
   "id": "02f1e6b1",
   "metadata": {},
   "source": [
    "```{warning}\n",
    "When using an `int` in combination with [`strings`](./strings.md), it is important to *cast* the `int` as a `string` in order for it to print out correct.  For example, `print(\"My age is \" + str(myAge))` casts the `int` `myAge` as a string within the context of the `print` statement.\n",
    "```\n",
    "\n",
    "The most common usage of `ints` is in for mathematical operations, such as:"
   ]
  },
  {
   "cell_type": "code",
   "execution_count": null,
   "id": "e1c0d56b",
   "metadata": {},
   "outputs": [],
   "source": [
    "length = 10\n",
    "width = 5\n",
    "height = 3\n",
    "base = 10\n",
    "side = 6\n",
    "rectangle_area = length * width # the value of 30 would now be assigned to the variable area\n",
    "triangle_area = (0.5 * base * height) # one half base multipled by height\n",
    "square_area = side**2 # exponents\n",
    "print(\"The area of a the rectangle is \" + str(rectangle_area))\n",
    "print(\"The area of the triangle is \" + str(triangle_area))\n",
    "print(\"The area of the square is \" + str(square_area))"
   ]
  }
 ],
 "metadata": {
  "jupytext": {
   "formats": "ipynb,md:myst"
  },
  "kernelspec": {
   "display_name": "Python 3 (ipykernel)",
   "language": "python",
   "name": "python3"
  },
  "language_info": {
   "codemirror_mode": {
    "name": "ipython",
    "version": 3
   },
   "file_extension": ".py",
   "mimetype": "text/x-python",
   "name": "python",
   "nbconvert_exporter": "python",
   "pygments_lexer": "ipython3",
   "version": "3.11.3"
  }
 },
 "nbformat": 4,
 "nbformat_minor": 5
}
