{
 "cells": [
  {
   "cell_type": "markdown",
   "id": "d6d98218",
   "metadata": {},
   "source": [
    "# Integers\n",
    "\n",
    "Integers are fundamental in Python, and like in most programming languages, they are distinct from [`strings`](./strings.md). Unlike strings, integers are interpreted as numbers, enabling you to perform standard mathematical operations with ease. Integers represent whole numbers, which are crucial for various mathematical and computational tasks.\n",
    "\n",
    "Declaring integers in Python is a breeze, following the same straightforward syntax used for all variables. You simply assign a value to a variable name using the assignment operator (=). For instance, you can declare integers like this:"
   ]
  },
  {
   "cell_type": "code",
   "execution_count": 1,
   "id": "34037814",
   "metadata": {},
   "outputs": [],
   "source": [
    "# Declaring basic integer values   \n",
    "rank = 10\n",
    "eggs = 12\n",
    "people = 3"
   ]
  },
  {
   "cell_type": "markdown",
   "id": "02f1e6b1",
   "metadata": {},
   "source": [
    "```{warning}\n",
    "Exercise caution when combining integers with strings. To ensure correct output, you must cast the integer as a string within the context of the print statement. For example, when working with the variable `my_age = 12`, a standard concatenated `print` statement would need to \"cast\" the variable like this:  `print(\"My age is \" + str(my_age))`.  This casting operation ensures that the integer value of my_age is correctly interpreted as part of the string.  Python can also handle this automatically through the use of \"F-strings\".\n",
    "```\n",
    "\n",
    "The primary use of integers in Python is mathematical operations. Whether you're calculating the area of geometric shapes, managing quantities, or working on numerical algorithms, integers play a pivotal role. You can easily perform arithmetic operations like addition, subtraction, multiplication, division, and even exponentiation.  Here is a basic example:"
   ]
  },
  {
   "cell_type": "code",
   "execution_count": 2,
   "id": "e1c0d56b",
   "metadata": {},
   "outputs": [
    {
     "name": "stdout",
     "output_type": "stream",
     "text": [
      "The area of a the rectangle is 50\n",
      "The area of the triangle is 15.0\n",
      "The area of the square is 36\n"
     ]
    }
   ],
   "source": [
    "length = 10\n",
    "width = 5\n",
    "height = 3\n",
    "base = 10\n",
    "side = 6\n",
    "rectangle_area = length * width # a value of 30 would now be assigned to the variable area\n",
    "triangle_area = (0.5 * base * height) # one half base multiplied by height\n",
    "square_area = side**2 # exponents\n",
    "print(\"The area of a the rectangle is \" + str(rectangle_area))\n",
    "print(f\"The area of the triangle is {triangle_area}\") # using F-strings\n",
    "print(f\"The area of the square is {square_area}\")"
   ]
  }
 ],
 "metadata": {
  "jupytext": {
   "formats": "ipynb,md:myst"
  },
  "kernelspec": {
   "display_name": "Python 3 (ipykernel)",
   "language": "python",
   "name": "python3"
  },
  "language_info": {
   "codemirror_mode": {
    "name": "ipython",
    "version": 3
   },
   "file_extension": ".py",
   "mimetype": "text/x-python",
   "name": "python",
   "nbconvert_exporter": "python",
   "pygments_lexer": "ipython3",
   "version": "3.11.4"
  }
 },
 "nbformat": 4,
 "nbformat_minor": 5
}
