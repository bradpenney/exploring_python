{
 "cells": [
  {
   "cell_type": "markdown",
   "id": "b5050da4",
   "metadata": {},
   "source": [
    "# Dictionaries\n",
    "\n",
    "Dictionaries are a powerful and flexible data structure that allows you to work with key-value pairings. Unlike simpler data types like [lists](./lists.ipynb), dictionaries offer a more complex and organized way to manage data. They are a fundamental tool for storing and retrieving information efficiently in Python. \n",
    "\n",
    "## What is a Dictionary?\n",
    "\n",
    "A dictionary in Python is a data structure that associates keys with values. These keys act as unique identifiers for values, allowing for quick and efficient retrieval. Think of a dictionary like a real-world dictionary, where you look up a word (the key) to find its definition (the value). In Python, you can use curly braces {} to create a dictionary, and you separate each key-value pair with a colon (:). For example:"
   ]
  },
  {
   "cell_type": "code",
   "execution_count": null,
   "id": "d400c93a",
   "metadata": {},
   "outputs": [],
   "source": [
    "# A dictionary containing mountain elevations\n",
    "mountain_elevations = {\"mount jo\": 3213.9, \"gros mourne\": 4392.1}\n",
    "print(mountain_elevations)"
   ]
  },
  {
   "cell_type": "markdown",
   "id": "da98f479",
   "metadata": {},
   "source": [
    "Obviously we don't always want to print out the entire dictionary.  It is easy to access the value in the *key-value* using similar techniques to accessing an element in a list:"
   ]
  },
  {
   "cell_type": "code",
   "execution_count": null,
   "id": "bb22b4ca",
   "metadata": {},
   "outputs": [],
   "source": [
    "# A dictionary containing mountain elevations\n",
    "mountain_elevations = {\"mount jo\": 3213.9, \"gros mourne\": 4392.1}\n",
    "print(\"The elevation of Mount Jo is \" + str(mountain_elevations['mount jo']) + \" feet.\")"
   ]
  },
  {
   "cell_type": "markdown",
   "id": "4aa0d8f5",
   "metadata": {},
   "source": [
    "## Changing Key-Value Pairs in a Dictionary\n",
    "\n",
    "To add a *key-value* pair to a dictionary, simply declare a new key and then assign it a value:"
   ]
  },
  {
   "cell_type": "code",
   "execution_count": null,
   "id": "691e0f4b",
   "metadata": {},
   "outputs": [],
   "source": [
    "# Existing list\n",
    "mountain_elevations = {\"mount jo\": 3213.9, \"gros mourne\": 4392.1}\n",
    "# Add a new value\n",
    "mountain_elevations['whiteface'] = 4867.3\n",
    "print(mountain_elevations)"
   ]
  },
  {
   "cell_type": "markdown",
   "id": "9eafd233",
   "metadata": {},
   "source": [
    "To modify a *key-value* pair, the process is similar to adding, but instead simply change the value:"
   ]
  },
  {
   "cell_type": "code",
   "execution_count": null,
   "id": "ab3ed877",
   "metadata": {},
   "outputs": [],
   "source": [
    "# Existing list\n",
    "mountain_elevations = {\"mount jo\": 3213.9, \"gros mourne\": 4392.1, \"whiteface\":4867.3}\n",
    "# Modify a  value\n",
    "mountain_elevations['gros mourne'] = 4387.1\n",
    "print(mountain_elevations)"
   ]
  },
  {
   "cell_type": "markdown",
   "id": "57ff8b62",
   "metadata": {},
   "source": [
    "There is also a way to remove *key-value* pairs:"
   ]
  },
  {
   "cell_type": "code",
   "execution_count": null,
   "id": "06640926",
   "metadata": {},
   "outputs": [],
   "source": [
    "# Existing list\n",
    "mountain_elevations = {\"mount jo\": 3213.9, \"gros mourne\": 4392.1, \"whiteface\":4867.3}\n",
    "# Delete a key-value pair\n",
    "del mountain_elevations['gros mourne']\n",
    "print(mountain_elevations)"
   ]
  },
  {
   "cell_type": "markdown",
   "id": "de4aefdb",
   "metadata": {},
   "source": [
    "## Nesting Dictionaries\n",
    "\n",
    "### Lists Containing Dictionaries\n",
    "It is possible to nest dictionaries within both lists and dictionaries.  For example, if we created a list of enemies in a video game, they could be grouped in a list of enemies:"
   ]
  },
  {
   "cell_type": "code",
   "execution_count": null,
   "id": "ef280bbb",
   "metadata": {},
   "outputs": [],
   "source": [
    "infantry = {'name':'infantry', 'weapon':'a sword', 'hitpoints':50, 'damageInflicted':5, 'killPoints':30}\n",
    "archer = {'name':'archer', 'weapon':'arrows', 'hitpoints':20, 'damageInflicted':10, 'killPoints':20}\n",
    "catapult = {'name':'catapult', 'weapon':'flying rocks', 'hitpoints':10, 'killPoints':50}\n",
    "enemies = [infantry, archer, catapult]\n",
    "\n",
    "for enemy in enemies:\n",
    "  print(\"When facing the \" + enemy['name'].title() + \n",
    "     \", this enemy will try to kill you with \" + enemy['weapon'].lower() +\n",
    "     \"! However, once you defeat the \" + enemy['name'] + \", you will gain \" + str(enemy['killPoints']) + \" points.\")"
   ]
  },
  {
   "cell_type": "markdown",
   "id": "d50f17bd",
   "metadata": {},
   "source": [
    "It is also possible to perform the same type of operation without formally naming each dictionary.  The following example would produce exactly the same output:"
   ]
  },
  {
   "cell_type": "code",
   "execution_count": null,
   "id": "d183b4e0",
   "metadata": {},
   "outputs": [],
   "source": [
    "enemies = [\n",
    "     {'name':'infantry', 'weapon':'a sword', 'hitpoints':50, 'damageInflicted':5, 'killPoints':30},\n",
    "     {'name':'archer', 'weapon':'arrows', 'hitpoints':20, 'damageInflicted':10, 'killPoints':20},\n",
    "     {'name':'catapult', 'weapon':'flying rocks', 'hitpoints':10, 'killPoints':50} \n",
    "]\n",
    "\n",
    "for enemy in enemies:\n",
    "  print(\"When facing the \" + enemy['name'].title() + \n",
    "     \", this enemy will try to kill you with \" + enemy['weapon'].lower() +\n",
    "     \"! However, once you defeat the \" + enemy['name'] + \", you will gain \" + str(enemy['killPoints']) + \" points.\")"
   ]
  },
  {
   "cell_type": "markdown",
   "id": "7e508825",
   "metadata": {},
   "source": [
    "## Dictionaries Containing Lists\n",
    "\n",
    "Dictionaries can also contain lists as their *values* (not as *keys*).  For example:"
   ]
  },
  {
   "cell_type": "code",
   "execution_count": null,
   "id": "759891cb",
   "metadata": {},
   "outputs": [],
   "source": [
    "myPizza = {\n",
    "  'crust':'stuffed',\n",
    "  'toppings':['pepperoni', 'bacon', 'green pepper']\n",
    "}\n",
    "\n",
    "print(\"Your pizza will be a \" + myPizza['crust'].title() + \"-crust with the following toppings:\")\n",
    "for topping in myPizza['toppings']:\n",
    "  print(\"\\t-> \" + topping.title())"
   ]
  },
  {
   "cell_type": "markdown",
   "id": "ebfbaf17",
   "metadata": {},
   "source": [
    "\\*Credit for above example: *Python Crash Course* by Eric Matthes, page 112."
   ]
  },
  {
   "cell_type": "markdown",
   "id": "b9c8451d",
   "metadata": {},
   "source": [
    "[![Socratica: Python Dictionaries](https://img.youtube.com/vi/XCcpzWs-CI4/maxresdefault.jpg)](https://youtu.be/XCcpzWs-CI4)"
   ]
  }
 ],
 "metadata": {
  "jupytext": {
   "formats": "ipynb,md:myst"
  },
  "kernelspec": {
   "display_name": "Python 3 (ipykernel)",
   "language": "python",
   "name": "python3"
  },
  "language_info": {
   "codemirror_mode": {
    "name": "ipython",
    "version": 3
   },
   "file_extension": ".py",
   "mimetype": "text/x-python",
   "name": "python",
   "nbconvert_exporter": "python",
   "pygments_lexer": "ipython3",
   "version": "3.11.4"
  }
 },
 "nbformat": 4,
 "nbformat_minor": 5
}
