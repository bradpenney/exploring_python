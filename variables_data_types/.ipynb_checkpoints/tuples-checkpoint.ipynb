{
 "cells": [
  {
   "cell_type": "markdown",
   "id": "f879cb19",
   "metadata": {},
   "source": [
    "# Tuples\n",
    "\n",
    "Similar to `Lists`{.interpreted-text role=\"ref\"}, a `tuple`{.p .python} is a collection of data in Python. Unlike a `list`{.p .python}, however, a `tuple`{.p .python} cannot be changed once it is declared. Methods such as `append()`{.p .python} and `pop()`{.p .python} cannot be used with a `tuple`{.p .python}. This makes a `tuple`{.p .python} the ideal place to store values that should not change, such as the results from a `SELECT`{.p .python} statement (`SQL`{.p .python})l which will be used in the Python program but not altered.\n",
    "\n",
    "Creating a `tuple`{.p .python} is similar to a `list`{.p .python}, but instead of square brackets, parenthesis are used:"
   ]
  },
  {
   "cell_type": "code",
   "execution_count": 2,
   "id": "2b390464",
   "metadata": {},
   "outputs": [
    {
     "name": "stdout",
     "output_type": "stream",
     "text": [
      "12\n"
     ]
    }
   ],
   "source": [
    "servers = ('web01', 'web02', 'app01', 'db01')\n",
    "ages = (12, 19, 32, 41)\n",
    "print(ages[0])"
   ]
  },
  {
   "cell_type": "markdown",
   "id": "568277d9",
   "metadata": {},
   "source": [
    "Tuples can be sliced, see [Slicing](../slicing/index.md) for more details."
   ]
  }
 ],
 "metadata": {
  "jupytext": {
   "formats": "ipynb,md:myst"
  },
  "kernelspec": {
   "display_name": "Python 3 (ipykernel)",
   "language": "python",
   "name": "python3"
  },
  "language_info": {
   "codemirror_mode": {
    "name": "ipython",
    "version": 3
   },
   "file_extension": ".py",
   "mimetype": "text/x-python",
   "name": "python",
   "nbconvert_exporter": "python",
   "pygments_lexer": "ipython3",
   "version": "3.11.3"
  }
 },
 "nbformat": 4,
 "nbformat_minor": 5
}
