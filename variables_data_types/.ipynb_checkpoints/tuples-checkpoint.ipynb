{
 "cells": [
  {
   "cell_type": "markdown",
   "id": "f879cb19",
   "metadata": {},
   "source": [
    "# Tuples\n",
    "\n",
    "Tuples, similar to [lists](./lists.ipynb), provide a means to collect and organize data. However, what sets tuples apart is their immutability - once created, the elements within a tuple cannot be modified. In this guide, we'll delve into what tuples are, explore why they are used, and demonstrate some practical use cases for these unchangeable data structures.\n",
    "\n",
    "## Understanding Tuples\n",
    "\n",
    "A tuple is a collection of elements, just like a list, but it differs in a crucial way: it cannot be changed or altered once it is declared. This immutability makes tuples an ideal choice for situations where you want to ensure that the data remains constant throughout your program's execution. Think of tuples as containers for values that should remain fixed, such as the results obtained from a database SELECT statement in SQL. These results might be crucial to your Python program, but you want to guarantee their integrity and prevent any unintentional modifications.\n",
    "\n",
    "## Creating Tuples\n",
    "\n",
    "Creating a tuple in Python is quite straightforward. Instead of using square brackets, as you would with a list, you use parentheses to define a tuple. Here's how you can create tuples to store server names and ages:"
   ]
  },
  {
   "cell_type": "code",
   "execution_count": 1,
   "id": "2b390464",
   "metadata": {},
   "outputs": [],
   "source": [
    "servers = ('web01', 'web02', 'app01', 'db01')\n",
    "ages = (12, 19, 32, 41)"
   ]
  },
  {
   "cell_type": "markdown",
   "id": "a91281a7-88b8-4584-b177-200fdf96e57a",
   "metadata": {},
   "source": [
    "Once you've created these tuples, you can access their elements using indexing, just like you would with a list. For example, to retrieve the first element from the `ages` tuple, you can use:"
   ]
  },
  {
   "cell_type": "code",
   "execution_count": 2,
   "id": "7bc1cc82-c410-44c3-8e2c-6e8ad24e30d5",
   "metadata": {},
   "outputs": [
    {
     "name": "stdout",
     "output_type": "stream",
     "text": [
      "12\n"
     ]
    }
   ],
   "source": [
    "print(ages[0])"
   ]
  },
  {
   "cell_type": "markdown",
   "id": "aabed5e8-9d3f-4cba-868a-6f326e230ba9",
   "metadata": {},
   "source": [
    "## Use Cases for Tuples\n",
    "\n",
    "Now, let's explore some practical use cases for tuples:\n",
    "\n",
    "- **Storing Constants**: Tuples can be used to store constant values, such as mathematical constants or configuration settings, ensuring that they remain unchanged throughout the program's execution.\n",
    "\n",
    "- **Multiple Return Values**: Functions in Python can return multiple values as a tuple. This allows you to efficiently pack and unpack data when calling and receiving function results."
   ]
  },
  {
   "cell_type": "code",
   "execution_count": 3,
   "id": "6e30a90b-959b-4c1f-b119-ba2400cf2024",
   "metadata": {},
   "outputs": [],
   "source": [
    "def get_user_info(user_id):\n",
    "    # ... retrieve user data ...\n",
    "    return ('John', 'Doe', 30)\n",
    "\n",
    "first_name, last_name, age = get_user_info(123)"
   ]
  },
  {
   "cell_type": "markdown",
   "id": "726bc40e-09c6-400c-bfe3-bf0cbefc9b54",
   "metadata": {},
   "source": [
    "- **Database Results**: As mentioned earlier, tuples are perfect for holding database query results. They maintain the integrity of fetched data while allowing you to work with it effectively.\n",
    "\n",
    "- **Coordinate Pairs**: Tuples can be used to represent coordinates or pairs of values, which is handy in applications involving geometry or mapping."
   ]
  },
  {
   "cell_type": "code",
   "execution_count": 6,
   "id": "6245770c-c2eb-4810-9626-a44b77abeaaf",
   "metadata": {},
   "outputs": [
    {
     "name": "stdout",
     "output_type": "stream",
     "text": [
      "The CN Tower stands at 43.642567 latitude, and -79.387054 longitude.\n"
     ]
    }
   ],
   "source": [
    "lat = 43.642567\n",
    "long = -79.387054\n",
    "cn_tower = (lat, long) # immutable\n",
    "print(f\"The CN Tower stands at {cn_tower[0]} latitude, and {cn_tower[1]} longitude.\")"
   ]
  },
  {
   "cell_type": "markdown",
   "id": "568277d9",
   "metadata": {},
   "source": [
    "```{note}\n",
    "Tuples can be sliced, see [Slicing](./slicing.ipynb) for more details.\n",
    "```"
   ]
  }
 ],
 "metadata": {
  "jupytext": {
   "formats": "ipynb,md:myst"
  },
  "kernelspec": {
   "display_name": "Python 3 (ipykernel)",
   "language": "python",
   "name": "python3"
  },
  "language_info": {
   "codemirror_mode": {
    "name": "ipython",
    "version": 3
   },
   "file_extension": ".py",
   "mimetype": "text/x-python",
   "name": "python",
   "nbconvert_exporter": "python",
   "pygments_lexer": "ipython3",
   "version": "3.11.4"
  }
 },
 "nbformat": 4,
 "nbformat_minor": 5
}
