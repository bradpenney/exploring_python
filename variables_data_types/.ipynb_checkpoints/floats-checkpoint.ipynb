{
 "cells": [
  {
   "cell_type": "markdown",
   "id": "c044906f",
   "metadata": {},
   "source": [
    "# Floats\n",
    "\n",
    "While [integers](integers.ipynb) (whole numbers) are well-suited for many tasks, there are situations where precision beyond whole numbers is required. A float, short for \"floating-point number,\" is a numeric data type in Python that represents real numbers, including those with decimal points. Unlike integers, which deal only with whole numbers, floats can handle values that have fractional components. For example, the mathematical constant pi, often approximated as 3.14, is a classic example of a float in Python.  Consider the following examples of floats:"
   ]
  },
  {
   "cell_type": "code",
   "execution_count": 3,
   "id": "45a6a1c7",
   "metadata": {},
   "outputs": [],
   "source": [
    "pi = 3.14\n",
    "price = 10.99\n",
    "temperature = 21.05"
   ]
  },
  {
   "cell_type": "markdown",
   "id": "c3868dd0-4b1d-4bd5-bb30-1464b3d0ce33",
   "metadata": {},
   "source": [
    "Floats are essential because they enable you to work with a wide range of data, especially in scientific, engineering, and financial applications, where precision in calculations is critical. Whether you're dealing with temperature measurements, currency values, or mathematical constants, floats provide the necessary flexibility to handle real-world data accurately."
   ]
  },
  {
   "cell_type": "markdown",
   "id": "c35612a2-4720-44d1-b5ed-247e0ed37627",
   "metadata": {},
   "source": [
    "## When to Use Floats\n",
    "\n",
    "It's important to note that while floats offer precision, they come at a cost—they occupy more memory (RAM) than integers. Therefore, it's advisable to use floats only when necessary. If your calculations involve whole numbers, it's more efficient to use integers. However, modern computers typically have ample RAM, making the memory overhead of floats less of a concern than it was in the past."
   ]
  },
  {
   "cell_type": "code",
   "execution_count": 4,
   "id": "ea72692c-1523-42d6-802c-02b1994dd83a",
   "metadata": {},
   "outputs": [],
   "source": [
    "temperature = 21.05  # A float for temperature\n",
    "number_of_items = 5  # An integer for quantity"
   ]
  },
  {
   "cell_type": "markdown",
   "id": "1ba55aaf-670f-41a5-90f6-f85d8b4c8183",
   "metadata": {},
   "source": [
    "## Use Cases for Floats\n",
    "\n",
    "Floats find their applications in a wide array of scenarios. Here are a few common use cases where floats shine:\n",
    "\n",
    "- **Financial Calculations**: Floats are ideal for handling financial data, such as calculating interest rates, stock prices, or currency exchange rates that often involve fractional components.\n",
    "\n",
    "- **Scientific Research**: Scientists use floats to represent experimental data, physical measurements, and mathematical constants like pi, e, or the gravitational constant.\n",
    "\n",
    "- **Engineering**: Engineers use floats for precise calculations in fields such as structural analysis, fluid dynamics, and electrical circuit design.\n",
    "\n",
    "- **Geospatial Data**: When working with geographic coordinates or GPS data, floats are essential for representing latitude and longitude with high precision.\n",
    "\n",
    "- **Temperature and Weather**: Floats are used to store temperature values, making them suitable for weather forecasting and climate modeling.\n",
    "\n",
    "## Using Floats\n",
    "\n",
    "In Python, performing arithmetic operations with floats is straightforward. If any mathematical operation involves a float, the result will also be a float. For example, multiplying an integer by a float yields a float result:"
   ]
  },
  {
   "cell_type": "code",
   "execution_count": 2,
   "id": "1057bb99-a1a5-49ad-8dae-ba0f6020cebc",
   "metadata": {},
   "outputs": [
    {
     "name": "stdout",
     "output_type": "stream",
     "text": [
      "54.95\n"
     ]
    }
   ],
   "source": [
    "number_of_items = 5       # Integer\n",
    "price = 10.99             # Float\n",
    "total_price = number_of_items * price  # Result is a float\n",
    "print(total_price)  "
   ]
  }
 ],
 "metadata": {
  "jupytext": {
   "formats": "ipynb,md:myst"
  },
  "kernelspec": {
   "display_name": "Python 3 (ipykernel)",
   "language": "python",
   "name": "python3"
  },
  "language_info": {
   "codemirror_mode": {
    "name": "ipython",
    "version": 3
   },
   "file_extension": ".py",
   "mimetype": "text/x-python",
   "name": "python",
   "nbconvert_exporter": "python",
   "pygments_lexer": "ipython3",
   "version": "3.11.4"
  }
 },
 "nbformat": 4,
 "nbformat_minor": 5
}
