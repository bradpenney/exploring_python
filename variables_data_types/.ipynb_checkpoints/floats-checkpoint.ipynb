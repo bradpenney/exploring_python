{
 "cells": [
  {
   "cell_type": "markdown",
   "id": "c044906f",
   "metadata": {},
   "source": [
    "# Floats\n",
    "\n",
    "A Float is similar to an `int`, except it includes decimal places (i.e. `pi = 3.14`).\n",
    "\n",
    "Floats take up more memory (RAM) than integers in the Python program, so should only be used when needed.  If an `int` will work, use it.  However, with modern computers having a significant amount of RAM, this is less of a concern than it was in the past.\n",
    "\n",
    "Floats are declared in the same way as an `int`:"
   ]
  },
  {
   "cell_type": "code",
   "execution_count": 2,
   "id": "45a6a1c7",
   "metadata": {},
   "outputs": [],
   "source": [
    "pi = 3.14\n",
    "price = 10.99\n",
    "temperature = 21.05"
   ]
  },
  {
   "cell_type": "markdown",
   "id": "d6f1bef8",
   "metadata": {},
   "source": [
    "As mentioned, a `float` can be the quotient of two integers.  However, if any mathematical operation is performed and one of the numbers is a `float`, the result will also be a `float`."
   ]
  },
  {
   "cell_type": "code",
   "execution_count": 3,
   "id": "daa40eea",
   "metadata": {},
   "outputs": [
    {
     "name": "stdout",
     "output_type": "stream",
     "text": [
      "54.95\n"
     ]
    }
   ],
   "source": [
    "number_of_items = 5 # integer\n",
    "price = 10.99 #float\n",
    "total_price = number_of_items * price # 54.95 will now be assigned to the \"total_price\" variable, which is a float\n",
    "print(total_price)"
   ]
  },
  {
   "cell_type": "code",
   "execution_count": null,
   "id": "ba7e1376",
   "metadata": {},
   "outputs": [],
   "source": []
  }
 ],
 "metadata": {
  "jupytext": {
   "formats": "ipynb,md:myst"
  },
  "kernelspec": {
   "display_name": "Python 3 (ipykernel)",
   "language": "python",
   "name": "python3"
  },
  "language_info": {
   "codemirror_mode": {
    "name": "ipython",
    "version": 3
   },
   "file_extension": ".py",
   "mimetype": "text/x-python",
   "name": "python",
   "nbconvert_exporter": "python",
   "pygments_lexer": "ipython3",
   "version": "3.11.3"
  }
 },
 "nbformat": 4,
 "nbformat_minor": 5
}
