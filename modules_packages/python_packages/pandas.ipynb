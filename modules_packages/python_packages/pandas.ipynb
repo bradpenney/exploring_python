{
 "cells": [
  {
   "cell_type": "markdown",
   "id": "433e4ab1-5123-45e3-a12c-af5dddd48dd1",
   "metadata": {},
   "source": [
    "# `pandas` Package\n",
    "\n",
    "- [Pandas](https://pandas.pydata.org/) - Read/Manipulate CSV/Excel Files"
   ]
  }
 ],
 "metadata": {
  "kernelspec": {
   "display_name": "Python 3 (ipykernel)",
   "language": "python",
   "name": "python3"
  },
  "language_info": {
   "codemirror_mode": {
    "name": "ipython",
    "version": 3
   },
   "file_extension": ".py",
   "mimetype": "text/x-python",
   "name": "python",
   "nbconvert_exporter": "python",
   "pygments_lexer": "ipython3",
   "version": "3.11.4"
  }
 },
 "nbformat": 4,
 "nbformat_minor": 5
}
