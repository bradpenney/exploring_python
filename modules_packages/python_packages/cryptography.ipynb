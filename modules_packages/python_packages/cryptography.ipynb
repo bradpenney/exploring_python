{
 "cells": [
  {
   "cell_type": "markdown",
   "id": "057b4750",
   "metadata": {},
   "source": [
    "# `cryptography` Package \n",
    "\n",
    "- [Cryptography](https://cryptography.io/en/latest/) - high level recipes and low level interfaces to common cryptographic algorithms\n",
    "\n",
    "## Resources\n",
    "\n",
    "[![PyTutorials - How to Encrypt Strings and Files in Python](https://img.youtube.com/vi/H8t4DJ3Tdrg/maxresdefault.jpg)](https://youtu.be/H8t4DJ3Tdrg)"
   ]
  }
 ],
 "metadata": {
  "jupytext": {
   "cell_metadata_filter": "-all",
   "formats": "ipynb,md:myst",
   "main_language": "python",
   "notebook_metadata_filter": "-all"
  },
  "kernelspec": {
   "display_name": "Python 3 (ipykernel)",
   "language": "python",
   "name": "python3"
  },
  "language_info": {
   "codemirror_mode": {
    "name": "ipython",
    "version": 3
   },
   "file_extension": ".py",
   "mimetype": "text/x-python",
   "name": "python",
   "nbconvert_exporter": "python",
   "pygments_lexer": "ipython3",
   "version": "3.11.3"
  }
 },
 "nbformat": 4,
 "nbformat_minor": 5
}
