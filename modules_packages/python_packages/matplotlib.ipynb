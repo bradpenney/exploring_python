{
 "cells": [
  {
   "cell_type": "markdown",
   "id": "ae2aac6e-cd30-43e9-9dba-847cd679d7ff",
   "metadata": {},
   "source": [
    "# `matplotlib` Package\n",
    "\n",
    "- [Matplotlib](https://matplotlib.org/) - Visualization with Python "
   ]
  }
 ],
 "metadata": {
  "kernelspec": {
   "display_name": "Python 3 (ipykernel)",
   "language": "python",
   "name": "python3"
  },
  "language_info": {
   "codemirror_mode": {
    "name": "ipython",
    "version": 3
   },
   "file_extension": ".py",
   "mimetype": "text/x-python",
   "name": "python",
   "nbconvert_exporter": "python",
   "pygments_lexer": "ipython3",
   "version": "3.11.4"
  }
 },
 "nbformat": 4,
 "nbformat_minor": 5
}
