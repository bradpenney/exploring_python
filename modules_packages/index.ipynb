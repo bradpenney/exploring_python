{
 "cells": [
  {
   "cell_type": "markdown",
   "id": "398b792d",
   "metadata": {},
   "source": [
    "# Modules & Packages\n",
    "   \n",
    "In a standard installation of Linux, Python can be found at `/usr/bin/python3`.  Python is actually written in the `C` programming language (by [Guido van Rossum](https://en.wikipedia.org/wiki/Guido_van_Rossum).  The [Python Documentation](https://docs.python.org/3/) website contains information about all the amazing functionality that is built into the Python programming language.  The [Python Package Index (PyPI)](https://pypi.org/) helps you find and intall Python packages developed and shared by the Python community.\n",
    "\n",
    "## Importing Modules and Packages\n",
    "\n",
    "To import any module or package, simply add the import statement at the top of the Python file.  For example:"
   ]
  },
  {
   "cell_type": "code",
   "execution_count": 3,
   "id": "10625ea9",
   "metadata": {},
   "outputs": [],
   "source": [
    "import logging as log"
   ]
  },
  {
   "cell_type": "markdown",
   "id": "473c3e37",
   "metadata": {},
   "source": [
    "The `as log` part of this statement is purely programmer convenience, as `log` can now be appended to the beginning of any `logging` function, saving a few keystrokes and possibly making the code more legible for other programmers.\n",
    "\n",
    "## Run Code Explicitly\n",
    "\n",
    "When importing a module or package at the top of a program, it is important to know that Python runs the code being imported when it encounters that line.  This could have disasterous results if the imported code generated unexpected output, seemingly without being called.\n",
    "\n",
    "To safeguard against this, most programmers use a simple convention so that the main function of any program will only run if it is explicitly called or the program is being run directly via Python (not being imported).  The line is simply:"
   ]
  },
  {
   "cell_type": "code",
   "execution_count": 4,
   "id": "7d957742",
   "metadata": {},
   "outputs": [],
   "source": [
    "def main():\n",
    "    pass\n",
    "\n",
    "if __name__ == '__main__':\n",
    "    main() # Also a convention, could be called something different!"
   ]
  },
  {
   "cell_type": "markdown",
   "id": "aa70517b",
   "metadata": {},
   "source": [
    "When an application is run, Python generates a name for the program and stores it in the `__name__` variable.  By default, this is `__main__`.  Therefore, when imported a module or package should generate nothing, but rather initialize the included functions/classes so they can be used by the program importing them.  \n",
    "\n",
    "For more information, please watch Corey Schafer's excellent explanation:\n",
    "\n",
    "[![Corey Schafer - Python Tutorial: :p:`if  __name__ == '__main__'`](https://img.youtube.com/vi/sugvnHA7ElY/maxresdefault.jpg)](https://youtu.be/sugvnHA7ElY)\n",
    "\n",
    "\n",
    "## Python's Built-In Documentation\n",
    "\n",
    "Python has significant documentation built into the language.  This can be accessed using the Python Integrated Development and Learning Environment (IDLE).  In Linux, this is accessed by opening the terminal application and running the `python3` command:\n",
    "\n",
    "![Python IDLE via Command Line](../_static/images/python_IDLE.png)\n",
    "\n",
    "Once inside the IDLE prompt, there are built-in commands that allow a developer to explore how parts of the Python language works.  The `dir()` method gives a starting point for exploration:\n",
    "\n",
    "![Exploring Python using `dir()`](../_static/images/python_dir.png)\n",
    "      \n",
    "Calling the `dir()` method on any of these components shows the available objects, classes and methods that Python contains.  For example, `dir(__builtins__)` looks like this:\n",
    "\n",
    "![Exploring Python Built-Ins using :p:`dir(__builtins__)`](../_static/images/python_dir_builtins.png)\n",
    "\n",
    "Once a core module is imported, it is also available to be examined.  For example, after importing the :p:`sqlite3` module, it appears in the :p:`dir()` call, and can examined thoroughly:\n",
    "\n",
    "![Exploring the SQLite3 Core Module using `dir(sqlite3)`](../_static/images/python_dir_sqlite3.png)      \n",
    "\n",
    "If deeper investigation into a Python object is required, the :p:`help()` function is used:\n",
    "\n",
    "![Exploring the SQLite3 Connect Function using `help()`](../_static/images/python_help_sqlite3_connect_call.png)\n",
    "\n",
    "Which results in very helpful documentation:\n",
    "\n",
    "![Built-In Documentation about the SQLite3 Connect Function](../_static/images/python_help_sqlite3_connect.png)"
   ]
  }
 ],
 "metadata": {
  "jupytext": {
   "cell_metadata_filter": "-all",
   "formats": "ipynb,md:myst",
   "main_language": "python",
   "notebook_metadata_filter": "-all"
  },
  "kernelspec": {
   "display_name": "Python 3 (ipykernel)",
   "language": "python",
   "name": "python3"
  },
  "language_info": {
   "codemirror_mode": {
    "name": "ipython",
    "version": 3
   },
   "file_extension": ".py",
   "mimetype": "text/x-python",
   "name": "python",
   "nbconvert_exporter": "python",
   "pygments_lexer": "ipython3",
   "version": "3.11.3"
  }
 },
 "nbformat": 4,
 "nbformat_minor": 5
}
