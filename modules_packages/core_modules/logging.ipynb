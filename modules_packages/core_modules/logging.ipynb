{
 "cells": [
  {
   "cell_type": "markdown",
   "id": "e136f5df",
   "metadata": {},
   "source": [
    "# `logging` Module\n",
    "\n",
    "[Offical Documentation for the Logging Module](https://docs.python.org/3/library/logging.html?highlight=logging#module-logging)\n",
    "\n",
    "The `logging` module is one of the most valuable core modules built into the Python programming language.  Like other Python core modules, to use it, simply add this line to the top of your program:"
   ]
  },
  {
   "cell_type": "code",
   "execution_count": null,
   "id": "b817d8cd",
   "metadata": {},
   "outputs": [],
   "source": [
    "import logging"
   ]
  },
  {
   "cell_type": "markdown",
   "id": "d106d853",
   "metadata": {},
   "source": [
    "## Levels of Logging\n",
    "\n",
    "There are five levels of logging available by default using the `logging` module.  In order of severity, these are:\n",
    "\n",
    "#. **Debug** - called with :p:`logging.debug(\"Debugging message\")`\n",
    "#. **Info** - called with :p:`logging.info(\"Informational message\")` \n",
    "#. **Warning** - called with :p:`logging.warning(\"Warning message\")`\n",
    "#. **Error** - called with :p:`logging.error(\"Error message\")`\n",
    "#. **Critical** - called with :p:`logging.critical(\"Critical message\")`\n",
    "\n",
    "### Basic Usage\n",
    "\n",
    "After importing the module, it will require some basic setup.  The most basic setup would be:"
   ]
  },
  {
   "cell_type": "code",
   "execution_count": null,
   "id": "cba26337",
   "metadata": {},
   "outputs": [],
   "source": [
    "logging.basicConfig(level=logging.ERROR, filename=\"errors.log\", filemode=\"a\")"
   ]
  },
  {
   "cell_type": "markdown",
   "id": "967782bf",
   "metadata": {},
   "source": [
    "It is also possible to designate the format of the log string as follows:"
   ]
  },
  {
   "cell_type": "code",
   "execution_count": null,
   "id": "f64a7a6f",
   "metadata": {},
   "outputs": [],
   "source": [
    "logging.basicConfig(\n",
    "    level=logging.ERROR, \n",
    "    filename=\"errors.log\", \n",
    "    filemode=\"a\",\n",
    "    format=\"%(asctime)s - %(levelname)s - %(message)s\"\n",
    ")"
   ]
  },
  {
   "cell_type": "markdown",
   "id": "4a4e6c73",
   "metadata": {},
   "source": [
    "The attributes that can be formatted and called in a LogRecord can be found [here](https://docs.python.org/3/library/logging.html#logrecord-attributes).\n",
    "\n",
    "### Embedding Variables in Logs\n",
    "\n",
    "It is very easy to write a custom string to a log using the `logging` module.  Using a standard `fstring`, the value is written to the log.  For example (continuing from the above examples):"
   ]
  },
  {
   "cell_type": "code",
   "execution_count": null,
   "id": "91ab5606",
   "metadata": {},
   "outputs": [],
   "source": [
    "myName = \"Brad\"\n",
    "logging.error(f\"Oh noes!  {myName} created an error!\")"
   ]
  },
  {
   "cell_type": "markdown",
   "id": "e82c1bee",
   "metadata": {},
   "source": [
    "### Embedding Tracebacks in Logs\n",
    "\n",
    "In Python, specific errors can be caught using a `try/except` block.  The `logging` module has a special function built in to append caught errors to the log.  For example:"
   ]
  },
  {
   "cell_type": "code",
   "execution_count": null,
   "id": "da4b7cae",
   "metadata": {},
   "outputs": [],
   "source": [
    "try:\n",
    "    1 / 0\n",
    "except ZeroDivisionError:\n",
    "    logging.exception(\"ZeroDivisionError\")"
   ]
  },
  {
   "cell_type": "markdown",
   "id": "4e72c3a3",
   "metadata": {},
   "source": [
    "### Resources\n",
    "\n",
    "\n",
    "[![Tech with Tim - Python Logging](https://img.youtube.com/vi/urrfJgHwIJA/maxresdefault.jpg)](https://youtu.be/urrfJgHwIJA)\n",
    "\n",
    "\n",
    "[![Socratica - Logging Module](https://img.youtube.com/vi/g8nQ90Hk328/maxresdefault.jpg)](https://youtu.be/g8nQ90Hk328)"
   ]
  }
 ],
 "metadata": {
  "jupytext": {
   "cell_metadata_filter": "-all",
   "formats": "ipynb,md:myst",
   "main_language": "python",
   "notebook_metadata_filter": "-all"
  },
  "kernelspec": {
   "display_name": "Python 3 (ipykernel)",
   "language": "python",
   "name": "python3"
  },
  "language_info": {
   "codemirror_mode": {
    "name": "ipython",
    "version": 3
   },
   "file_extension": ".py",
   "mimetype": "text/x-python",
   "name": "python",
   "nbconvert_exporter": "python",
   "pygments_lexer": "ipython3",
   "version": "3.11.3"
  }
 },
 "nbformat": 4,
 "nbformat_minor": 5
}
