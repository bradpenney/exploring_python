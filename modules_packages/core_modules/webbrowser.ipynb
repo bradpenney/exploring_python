{
 "cells": [
  {
   "cell_type": "markdown",
   "id": "80dd6e2d-85f8-4521-bfe1-9ec68a6a707c",
   "metadata": {},
   "source": [
    "# `webbrowser` Module\n",
    "\n",
    "A high-level interface to allow displaying of web-based documents to users.\n",
    "\n",
    "- [Official Documentation](https://docs.python.org/3/library/webbrowser.html?highlight=webbrowser#module-webbrowser)."
   ]
  }
 ],
 "metadata": {
  "kernelspec": {
   "display_name": "Python 3 (ipykernel)",
   "language": "python",
   "name": "python3"
  },
  "language_info": {
   "codemirror_mode": {
    "name": "ipython",
    "version": 3
   },
   "file_extension": ".py",
   "mimetype": "text/x-python",
   "name": "python",
   "nbconvert_exporter": "python",
   "pygments_lexer": "ipython3",
   "version": "3.11.4"
  }
 },
 "nbformat": 4,
 "nbformat_minor": 5
}
