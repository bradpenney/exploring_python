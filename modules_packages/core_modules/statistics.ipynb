{
 "cells": [
  {
   "cell_type": "code",
   "execution_count": null,
   "id": "d53e5f90-90ae-4412-92e4-d4c87aeb8859",
   "metadata": {},
   "outputs": [],
   "source": [
    "# `statistics` Module\n",
    "\n",
    "In a standard installation of Linux, the `statistics` module can be found at `/usr/lib/python3.10/statistics.py`.  It contains several functions for calculating mathematical statistics of numeric data.  \n",
    "\n",
    "- [Official Documentation](https://docs.python.org/3/library/statistics.html?highlight=stat#module-statistics)"
   ]
  }
 ],
 "metadata": {
  "kernelspec": {
   "display_name": "Python 3 (ipykernel)",
   "language": "python",
   "name": "python3"
  },
  "language_info": {
   "codemirror_mode": {
    "name": "ipython",
    "version": 3
   },
   "file_extension": ".py",
   "mimetype": "text/x-python",
   "name": "python",
   "nbconvert_exporter": "python",
   "pygments_lexer": "ipython3",
   "version": "3.11.4"
  }
 },
 "nbformat": 4,
 "nbformat_minor": 5
}
