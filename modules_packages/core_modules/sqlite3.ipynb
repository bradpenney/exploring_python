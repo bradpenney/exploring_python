{
 "cells": [
  {
   "cell_type": "markdown",
   "id": "c324daf9-2db3-4ba1-92d8-e74e983112b7",
   "metadata": {},
   "source": [
    "# `sqlite3` Module\n",
    "\n",
    "\n",
    "SQLite3 is a core Python module that is a \"lite\" version of a Relational Database Management System.  It is not an enterprise-grade solution, but it is great for learning (teaching) as well as tracking persistent data that Python applications find useful.\n",
    "\n",
    "One of the best tutorials on how to use SQLite with Python is below:\n",
    "\n",
    "- [SQLite3 Python Tutorial](https://www.sqlitetutorial.net/sqlite-python/)"
   ]
  }
 ],
 "metadata": {
  "kernelspec": {
   "display_name": "Python 3 (ipykernel)",
   "language": "python",
   "name": "python3"
  },
  "language_info": {
   "codemirror_mode": {
    "name": "ipython",
    "version": 3
   },
   "file_extension": ".py",
   "mimetype": "text/x-python",
   "name": "python",
   "nbconvert_exporter": "python",
   "pygments_lexer": "ipython3",
   "version": "3.11.4"
  }
 },
 "nbformat": 4,
 "nbformat_minor": 5
}
