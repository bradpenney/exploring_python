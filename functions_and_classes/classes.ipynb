{
 "cells": [
  {
   "cell_type": "markdown",
   "id": "b365f920-9ff6-4ea9-a14a-ffc8bc87ebd4",
   "metadata": {},
   "source": [
    "# Python Classes\n",
    "\n",
    "[![Socratica: Classes in Python](https://img.youtube.com/vi/apACNr7DC_s/maxresdefault.jpg)](https://youtu.be/apACNr7DC_s)"
   ]
  },
  {
   "cell_type": "code",
   "execution_count": null,
   "id": "20bb42a0-993e-4fd0-9a05-26a7050ef235",
   "metadata": {},
   "outputs": [],
   "source": []
  }
 ],
 "metadata": {
  "kernelspec": {
   "display_name": "Python 3 (ipykernel)",
   "language": "python",
   "name": "python3"
  },
  "language_info": {
   "codemirror_mode": {
    "name": "ipython",
    "version": 3
   },
   "file_extension": ".py",
   "mimetype": "text/x-python",
   "name": "python",
   "nbconvert_exporter": "python",
   "pygments_lexer": "ipython3",
   "version": "3.11.4"
  }
 },
 "nbformat": 4,
 "nbformat_minor": 5
}
