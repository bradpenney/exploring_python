{
 "cells": [
  {
   "cell_type": "markdown",
   "id": "4743903a-177b-4f54-96f3-0d2b0a564aa2",
   "metadata": {},
   "source": [
    "# Functions & Classes\n",
    "\n",
    "- [Functions](./functions.ipynb)\n",
    "- [Classes](./classes.ipynb)"
   ]
  }
 ],
 "metadata": {
  "kernelspec": {
   "display_name": "Python 3 (ipykernel)",
   "language": "python",
   "name": "python3"
  },
  "language_info": {
   "codemirror_mode": {
    "name": "ipython",
    "version": 3
   },
   "file_extension": ".py",
   "mimetype": "text/x-python",
   "name": "python",
   "nbconvert_exporter": "python",
   "pygments_lexer": "ipython3",
   "version": "3.11.4"
  }
 },
 "nbformat": 4,
 "nbformat_minor": 5
}
