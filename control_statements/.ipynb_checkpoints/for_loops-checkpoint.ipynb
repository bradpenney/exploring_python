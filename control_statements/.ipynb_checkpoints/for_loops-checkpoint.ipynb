{
 "cells": [
  {
   "cell_type": "markdown",
   "id": "45e2f5bc",
   "metadata": {},
   "source": [
    "# `for` Loops\n",
    "\n",
    "The real power of computers is that they can repeat the same action billions of times without complaint or fatigue.  In Python (as most other languages), programmers can use a `for` loop to repeatedly execute a block of code. \n",
    "\n",
    "```{warning}\n",
    "Like most Python syntax, `for` loops are white-space sensitive.  The lines indented below the initializing `for` loop line will be included in the loop, while those which are below but not indented will not be part of the `for` loop.  \n",
    "```\n",
    "\n",
    "The keyword `for` signals that a loop is being initialized, with the keyword `in` indicating what is being looped over. A `for` loop can be created as follows:"
   ]
  },
  {
   "cell_type": "code",
   "execution_count": 1,
   "id": "ffe45cae",
   "metadata": {},
   "outputs": [
    {
     "name": "stdout",
     "output_type": "stream",
     "text": [
      "A\n",
      "B\n",
      "C\n"
     ]
    }
   ],
   "source": [
    "for letter in 'abc':\n",
    "    print(letter.upper())"
   ]
  },
  {
   "cell_type": "markdown",
   "id": "08f3c7e7",
   "metadata": {},
   "source": [
    "In the above example, The `for` loop repeatedly printed each individual element in the string, converting each element of the string to uppercase using the `upper()` string method.\n",
    "\n",
    "```{note}\n",
    "The variable that comes after `for` is known as the *iterator*.  When looping (iterating) over a list, it is common to use the singular form of the list name (i.e. `book` may iterate over list `books`).  Another common convention is to use the letter `i`, short for *iterator*.\n",
    "```\n",
    "\n",
    "## Looping Over Lists\n",
    "\n",
    "[`lists`](../variables_data_types/lists.ipynb) and `for` loops are often combined.  It is extremely common to declare a list and then iterate over it:"
   ]
  },
  {
   "cell_type": "code",
   "execution_count": 5,
   "id": "6288ebe0",
   "metadata": {},
   "outputs": [
    {
     "name": "stdout",
     "output_type": "stream",
     "text": [
      "My favourite books include:\n",
      "   - Mastery\n",
      "   - The Signal And The Noise\n",
      "   - The Organized Mind\n"
     ]
    }
   ],
   "source": [
    "favBooks = ['mastery', 'the signal and the noise', 'the organized mind']\n",
    "\n",
    "print(\"My favourite books include:\")\n",
    "for book in favBooks:\n",
    "    print(\"   - \" + book.title())"
   ]
  },
  {
   "cell_type": "markdown",
   "id": "72d8e76e",
   "metadata": {},
   "source": [
    "## `for` Loops and the `range()` Function\n",
    "\n",
    "It is very common to loop over a :p:`range()` function to create a list of numbers:"
   ]
  },
  {
   "cell_type": "code",
   "execution_count": 6,
   "id": "b0bd0059",
   "metadata": {},
   "outputs": [
    {
     "name": "stdout",
     "output_type": "stream",
     "text": [
      "1\n",
      "2\n",
      "3\n",
      "4\n",
      "5\n",
      "6\n",
      "7\n",
      "8\n",
      "9\n",
      "10\n"
     ]
    }
   ],
   "source": [
    "for number in range(1,11):\n",
    "    print(number)"
   ]
  },
  {
   "cell_type": "markdown",
   "id": "ed01b01a",
   "metadata": {},
   "source": [
    "```{warning}\n",
    "This is a very common source of the *\"off by one\"* error - remember that the :p:`range()` function stops *before* the last number - so counting from 1 to 10 means designating a range of 1 to 11.\n",
    "```\n",
    "\n",
    "`range()` also accepts a third parameter, which indicates what the output should count by (i.e. count by 2, count by 3, etc.). For example, to print all the odd numbers up to 20, as it started counting from 1 and adds 2 each time:"
   ]
  },
  {
   "cell_type": "code",
   "execution_count": null,
   "id": "2a59b774",
   "metadata": {},
   "outputs": [],
   "source": [
    "for number in range(1,21,2):\n",
    "        print(number)"
   ]
  },
  {
   "cell_type": "markdown",
   "id": "0fa73f03",
   "metadata": {},
   "source": [
    "## Looping Over Dictionaries\n",
    "\n",
    "You can loop over [`dictionaries`](../variables_data_types/dictionaries.ipynb) as follows:"
   ]
  },
  {
   "cell_type": "code",
   "execution_count": 7,
   "id": "4541b665",
   "metadata": {},
   "outputs": [
    {
     "name": "stdout",
     "output_type": "stream",
     "text": [
      "Fred Flintstone\n",
      "Barney Rubble\n"
     ]
    }
   ],
   "source": [
    "phone_numbers = {\"Fred Flintstone\":\"+37682929928\",\"Barney Rubble\":\"+423998200919\"}\n",
    "for value in phone_numbers.keys():\n",
    "    print(value)"
   ]
  },
  {
   "cell_type": "markdown",
   "id": "4aaf10ec",
   "metadata": {},
   "source": [
    "You can loop over dictionary values:"
   ]
  },
  {
   "cell_type": "code",
   "execution_count": 8,
   "id": "cfb31382",
   "metadata": {},
   "outputs": [
    {
     "name": "stdout",
     "output_type": "stream",
     "text": [
      "+37682929928\n",
      "+423998200919\n"
     ]
    }
   ],
   "source": [
    "phone_numbers = {\"Fred Flintstone\":\"+37682929928\",\"Barney Rubble\":\"+423998200919\"}\n",
    "for value in phone_numbers.values():\n",
    "    print(value)"
   ]
  },
  {
   "cell_type": "markdown",
   "id": "dbb625a0",
   "metadata": {},
   "source": [
    "It is also possible to loop over dictionary items:"
   ]
  },
  {
   "cell_type": "code",
   "execution_count": null,
   "id": "8bbde9e8",
   "metadata": {},
   "outputs": [],
   "source": [
    "phone_numbers = {\"Fred Flintstone\":\"+37682929928\",\"Barney Rubble\":\"+423998200919\"}\n",
    "for key, value in phone_numbers.items():\n",
    "    print(key, value)"
   ]
  }
 ],
 "metadata": {
  "jupytext": {
   "formats": "ipynb,md:myst"
  },
  "kernelspec": {
   "display_name": "Python 3 (ipykernel)",
   "language": "python",
   "name": "python3"
  },
  "language_info": {
   "codemirror_mode": {
    "name": "ipython",
    "version": 3
   },
   "file_extension": ".py",
   "mimetype": "text/x-python",
   "name": "python",
   "nbconvert_exporter": "python",
   "pygments_lexer": "ipython3",
   "version": "3.11.4"
  }
 },
 "nbformat": 4,
 "nbformat_minor": 5
}
