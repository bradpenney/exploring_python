{
 "cells": [
  {
   "cell_type": "markdown",
   "id": "6b2028b6",
   "metadata": {},
   "source": [
    "# Looping Over a Function\n",
    "\n",
    "There are often scenarios where we need to execute a function multiple times with different inputs. This repetitive task can be efficiently accomplished in Python using a powerful construct known as a `for` loop. \n",
    "\n",
    "## Why Loop Over a Function?\n",
    "\n",
    "Consider a situation where you have a function that performs a specific task or computation, and you need to apply this function to a collection of values or items. Instead of manually calling the function for each input, which can be tedious and error-prone, you can harness the for loop's capabilities to automate this process. Looping over a function allows you to:\n",
    "\n",
    "- **Reuse Code**: You can encapsulate a specific functionality within a function and then effortlessly apply it to multiple data points without duplicating code.\n",
    "\n",
    "- **Efficiency**: Automating repetitive tasks enhances code efficiency, making it easier to maintain and less prone to errors.\n",
    "\n",
    "- **Scalability**: As your data set grows, using loops to apply a function becomes indispensable, ensuring that your code remains adaptable to various input sizes.\n",
    "\n",
    "Let's illustrate this concept with an example using a temperature conversion function, `celsius_to_kelvin`, which converts Celsius temperatures to Kelvin:"
   ]
  },
  {
   "cell_type": "code",
   "execution_count": 1,
   "id": "2daf3906",
   "metadata": {},
   "outputs": [
    {
     "name": "stdout",
     "output_type": "stream",
     "text": [
      "282.25\n",
      "281.95\n",
      "3.0\n"
     ]
    }
   ],
   "source": [
    "def celsius_to_kelvin(cels):\n",
    "    return cels + 273.15\n",
    "    \n",
    "for temperature in [9.1, 8.8, -270.15]:\n",
    "    print(celsius_to_kelvin(temperature))"
   ]
  },
  {
   "cell_type": "markdown",
   "id": "714ff3c6",
   "metadata": {},
   "source": [
    "During the loop, `celsius_to_kelvin` is executed with 9.1, 8.8, and -270.15, respectively, demonstrating the power of automating repetitive tasks through function iteration.\n",
    "\n",
    "## Use Cases\n",
    "\n",
    "- **Data Processing**: When dealing with large datasets, you can use loops to apply data transformation functions to each data point, such as converting units, cleaning data, or performing calculations.\n",
    "\n",
    "- **Batch Operations**: In scenarios where you need to perform the same operation on multiple files, records, or objects, looping over a function simplifies the process.\n",
    "\n",
    "- **Simulation and Modeling**: For simulations or mathematical models, you may need to run a function with various input parameters repeatedly to analyze different scenarios.\n",
    "\n",
    "- **Automation**: In automation scripts, you can loop over functions to perform tasks like file processing, network operations, or interacting with external APIs."
   ]
  }
 ],
 "metadata": {
  "jupytext": {
   "cell_metadata_filter": "-all",
   "formats": "md,ipynb",
   "main_language": "python",
   "notebook_metadata_filter": "-all"
  },
  "kernelspec": {
   "display_name": "Python 3 (ipykernel)",
   "language": "python",
   "name": "python3"
  },
  "language_info": {
   "codemirror_mode": {
    "name": "ipython",
    "version": 3
   },
   "file_extension": ".py",
   "mimetype": "text/x-python",
   "name": "python",
   "nbconvert_exporter": "python",
   "pygments_lexer": "ipython3",
   "version": "3.11.4"
  }
 },
 "nbformat": 4,
 "nbformat_minor": 5
}
