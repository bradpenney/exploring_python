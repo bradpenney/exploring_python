{
 "cells": [
  {
   "cell_type": "markdown",
   "id": "2eb8ffc5-4ddb-4211-a2a4-ed2b724a2590",
   "metadata": {},
   "source": [
    "# Control Statements\n",
    "\n",
    "Control statements are how programs make decisions based on inputs either from the end-user or from data that is collected by the program.\n",
    "\n",
    "## Logic\n",
    "\n",
    "Code makes decisions using logic.\n",
    "\n",
    "- [`if` Statements](./if_statements.ipynb)\n",
    "\n",
    "## Looping\n",
    "\n",
    "Code repeats its actions a specific number of times or until a specific condition is met using loops.\n",
    "\n",
    "- [`for` Loops](./for_loops.ipynb)\n",
    "- [`while` Loop](./while_loops.ipynb)\n",
    "- [Looping over a Function](./looping_over_a_function.ipynb)"
   ]
  }
 ],
 "metadata": {
  "kernelspec": {
   "display_name": "Python 3 (ipykernel)",
   "language": "python",
   "name": "python3"
  },
  "language_info": {
   "codemirror_mode": {
    "name": "ipython",
    "version": 3
   },
   "file_extension": ".py",
   "mimetype": "text/x-python",
   "name": "python",
   "nbconvert_exporter": "python",
   "pygments_lexer": "ipython3",
   "version": "3.11.4"
  }
 },
 "nbformat": 4,
 "nbformat_minor": 5
}
