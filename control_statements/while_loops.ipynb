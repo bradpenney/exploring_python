{
 "cells": [
  {
   "cell_type": "markdown",
   "id": "6baeba6d",
   "metadata": {},
   "source": [
    "\n",
    "# `while` Loops"
   ]
  },
  {
   "cell_type": "markdown",
   "id": "fe7bc82f",
   "metadata": {},
   "source": [
    "Another option is a  `while` loop. The code within a `while` will run as long as the condition is `True`:"
   ]
  },
  {
   "cell_type": "code",
   "execution_count": 5,
   "id": "65e8586b",
   "metadata": {},
   "outputs": [
    {
     "name": "stdout",
     "output_type": "stream",
     "text": [
      "Counter Value: 0.\n",
      "Counter Value: 2.\n",
      "Counter Value: 4.\n",
      "Counter Value: 6.\n",
      "Counter Value: 8.\n"
     ]
    }
   ],
   "source": [
    "count = 0\n",
    "# while count is less than 10\n",
    "while count < 10:\n",
    "    print(f\"Counter Value: {count}.\")\n",
    "    count += 2"
   ]
  },
  {
   "cell_type": "markdown",
   "id": "c43176c4",
   "metadata": {},
   "source": [
    "The loop above will evaluate the value of `count`.  While it is less than 10, it will print the value of count in the print statement, then increment the value by 2.  At that point, it will restart the loop and re-evaluate the value of `count`."
   ]
  }
 ],
 "metadata": {
  "jupytext": {
   "cell_metadata_filter": "-all",
   "formats": "md,ipynb",
   "main_language": "python",
   "notebook_metadata_filter": "-all"
  },
  "kernelspec": {
   "display_name": "Python 3 (ipykernel)",
   "language": "python",
   "name": "python3"
  },
  "language_info": {
   "codemirror_mode": {
    "name": "ipython",
    "version": 3
   },
   "file_extension": ".py",
   "mimetype": "text/x-python",
   "name": "python",
   "nbconvert_exporter": "python",
   "pygments_lexer": "ipython3",
   "version": "3.11.3"
  }
 },
 "nbformat": 4,
 "nbformat_minor": 5
}
