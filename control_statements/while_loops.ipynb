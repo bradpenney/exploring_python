{
 "cells": [
  {
   "cell_type": "markdown",
   "id": "c1169eeb",
   "metadata": {},
   "source": [
    "# `while` Loops\n",
    "\n",
    "\n",
    "Another option is :p:`while-loops`. The code under a :p:`while-loop` will run as long as the while-loop condition is :p:`True`:\n",
    "\n",
    ".. code-block:: python\n",
    "\n",
    "    while datetime.datetime.now() < datetime.datetime(2090, 8, 20, 19, 30, 20):\n",
    "        print(\"It's not yet 19:30:20 of 2090.8.20\")\n",
    "\n",
    "The loop above will print out the string inside :p:`print()` over and over again until the 20th of August, 2090."
   ]
  }
 ],
 "metadata": {
  "jupytext": {
   "cell_metadata_filter": "-all",
   "formats": "ipynb,md:myst",
   "main_language": "python",
   "notebook_metadata_filter": "-all"
  },
  "kernelspec": {
   "display_name": "Python 3 (ipykernel)",
   "language": "python",
   "name": "python3"
  },
  "language_info": {
   "codemirror_mode": {
    "name": "ipython",
    "version": 3
   },
   "file_extension": ".py",
   "mimetype": "text/x-python",
   "name": "python",
   "nbconvert_exporter": "python",
   "pygments_lexer": "ipython3",
   "version": "3.11.3"
  }
 },
 "nbformat": 4,
 "nbformat_minor": 5
}
