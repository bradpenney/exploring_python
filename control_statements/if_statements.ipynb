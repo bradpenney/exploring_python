{
 "cells": [
  {
   "cell_type": "markdown",
   "id": "b8d103fa",
   "metadata": {},
   "source": [
    "# `if` Statements"
   ]
  },
  {
   "cell_type": "markdown",
   "id": "cddfa461-77ac-4090-9e38-694b26e663b2",
   "metadata": {},
   "source": [
    "The `if` statement is a basic building block of nearly all programming languages.  It is how a program decides a course of action - *if* this condition is met, *then* perform this action.  If the condition isn't met (if something didn't happen), then perform a different action (or do nothing).  Here's a basic example:"
   ]
  },
  {
   "cell_type": "code",
   "execution_count": 7,
   "id": "ff989319-9f26-4d6c-af4a-9c5d76daa3aa",
   "metadata": {},
   "outputs": [
    {
     "name": "stdout",
     "output_type": "stream",
     "text": [
      "x is equal to 3!\n"
     ]
    }
   ],
   "source": [
    "x = 3\n",
    "\n",
    "if x == 3:\n",
    "    print(\"x is equal to 3!\")"
   ]
  },
  {
   "cell_type": "markdown",
   "id": "9915e501-70dc-428b-8458-989f507c5f28",
   "metadata": {},
   "source": [
    "```{note}\n",
    "Notice the double-equals sign (`==`), not single equals sign (`=`).  In Python, a double-equals sign *evaluates equality* is checked, and a single equals sign *assigns a value* to [variables](../variables_data_types/index.ipynb).  This is a very common \"gotcha\" for beginning programmers.\n",
    "```"
   ]
  },
  {
   "cell_type": "markdown",
   "id": "b080d0fd-a80c-4083-bba0-2ea62250d5d9",
   "metadata": {},
   "source": [
    "## What Happens if the Condition Is Not Met?\n",
    "\n",
    "As mentioned above, an `if` statement only triggers an action if a condition is met.  If a condition isn't met, it does nothing.  This is perfectly useable in some cases.  Often, however, programmers want their code to take either one course of action or another, depending on whether a condition is met.  This is where the `if-else` statement becomes useful.  Here's an example:"
   ]
  },
  {
   "cell_type": "code",
   "execution_count": 8,
   "id": "57022309-a90e-4d2c-b842-a83f8c363844",
   "metadata": {},
   "outputs": [
    {
     "name": "stdout",
     "output_type": "stream",
     "text": [
      "x isn't equal to 2!\n"
     ]
    }
   ],
   "source": [
    "x = 3\n",
    "\n",
    "if x == 2:\n",
    "    print(\"x is equal to 2!\")\n",
    "else:\n",
    "    print(\"x isn't equal to 2!\")"
   ]
  },
  {
   "cell_type": "markdown",
   "id": "4943218d-12d8-46c1-af3d-053a5e8aae47",
   "metadata": {},
   "source": [
    "A more useful example (in pseudocode) might be - \"IF a player's score has reached 100 points, end the game.  ELSE continue playing the game\".  That might be written as:"
   ]
  },
  {
   "cell_type": "code",
   "execution_count": 9,
   "id": "fde9d01a-0b06-4471-a13d-9ac5bfc7dd85",
   "metadata": {},
   "outputs": [
    {
     "name": "stdout",
     "output_type": "stream",
     "text": [
      "You need 53 more points to win!\n"
     ]
    }
   ],
   "source": [
    "player_1_score = 47\n",
    "\n",
    "if player_1_score >= 100:\n",
    "    print(\"YOU WIN!\")\n",
    "else:\n",
    "    print(f\"You need {100 - player_1_score} more points to win!\")"
   ]
  },
  {
   "cell_type": "markdown",
   "id": "1aa53b8f-4a39-4c8e-b0b0-23951e245de7",
   "metadata": {},
   "source": [
    "```{note}\n",
    "`if` statements like this are everywhere in programs - they're usually embedded in other control structures such as [`while` loops](while_loops.ipynb).  Surprisingly complex decision structures are created based on combining these simple statements together.\n",
    "```"
   ]
  },
  {
   "cell_type": "markdown",
   "id": "a1e2f7d6-16c3-49ac-a359-cd01051286ab",
   "metadata": {},
   "source": [
    "## What About 3 Courses of Action?\n",
    "\n",
    "Sometimes programmers will want more than two outcomes based on a condition.  Python introduces the `if-elif-else` control statement to deal with these cases.  Once a condition evaluates as true, the corresponding code block executes and the statement is completed.  Here's an example:"
   ]
  },
  {
   "cell_type": "code",
   "execution_count": 13,
   "id": "9b999ab1-2772-4df3-80f7-463495e0b457",
   "metadata": {},
   "outputs": [
    {
     "name": "stdout",
     "output_type": "stream",
     "text": [
      "Congratulations - you've passed this class with an excellent grade!\n"
     ]
    }
   ],
   "source": [
    "my_final_grade = 82\n",
    "\n",
    "if my_final_grade < 60:\n",
    "    print(\"Sorry, you'll have to retake this class\")\n",
    "elif my_final_grade >= 60 and my_final_grade < 80:\n",
    "    print(\"You have passed this class, good job.\")\n",
    "elif my_final_grade >= 80:\n",
    "    print(\"Congratulations - you've passed this class with an excellent grade!\")\n",
    "else:\n",
    "    print(\"Unfortunately your grade is not available - please contact your instructor\")"
   ]
  },
  {
   "cell_type": "markdown",
   "id": "cd2b89c2-a7ec-4eef-a5a2-ac2117bc5d44",
   "metadata": {},
   "source": [
    "Notice that the first `elif` statement actually evaluates two different conditions - the final grade is higher than 60 and lower than 80.  So if the grade falls in the 60-79 range, the user will receive the message \"You have passed this class, good job\".  Another option would be to use an `or` statement, meaning that if either condition is met, this `elif` statement will work.  This strategy can be used in either `if` or `elif` statements.\n",
    "\n",
    "Also note that if a condition evaluates to true, the prescribed action is taken, and no further conditions are evaluated.  This means that even if a condition in a later statement is also true, it won't be executed because Python will ignore later statements once it finds a true statement.  You'll need to reorganize your code (preferred method) or use multiple `if-elif-else` constructs, to evaluate multiple conditions."
   ]
  },
  {
   "cell_type": "markdown",
   "id": "c62f7ebb-016c-4742-b226-e87cff20a147",
   "metadata": {},
   "source": [
    "```{note}\n",
    "Some other programming languages have another structure called a `case` statement that can handle the `if-elif-else` decision-making process.  Case statements are often preferred because they make source code easier to read for humans.  While, Python lacks this construct, using a large `if-elif-else` statement does get the job done.\n",
    "```"
   ]
  }
 ],
 "metadata": {
  "jupytext": {
   "cell_metadata_filter": "-all",
   "formats": "ipynb,md:myst",
   "main_language": "python",
   "notebook_metadata_filter": "-all"
  },
  "kernelspec": {
   "display_name": "Python 3 (ipykernel)",
   "language": "python",
   "name": "python3"
  },
  "language_info": {
   "codemirror_mode": {
    "name": "ipython",
    "version": 3
   },
   "file_extension": ".py",
   "mimetype": "text/x-python",
   "name": "python",
   "nbconvert_exporter": "python",
   "pygments_lexer": "ipython3",
   "version": "3.11.4"
  }
 },
 "nbformat": 4,
 "nbformat_minor": 5
}
