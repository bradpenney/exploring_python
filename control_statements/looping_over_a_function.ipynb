{
 "cells": [
  {
   "cell_type": "markdown",
   "id": "f925f57d",
   "metadata": {},
   "source": [
    "# Looping Over a Function\n",
    "\n",
    "A :p:`for` loop can also be used to execute a function multiple times. For example, below we are executing :p:`celsius_to_kelvin` three times since there are three items in the iterating list:\n",
    "\n",
    ".. code-block:: python\n",
    "\n",
    "    def celsius_to_kelvin(cels):\n",
    "        return cels + 273.15\n",
    "    \n",
    "    for temperature in [9.1, 8.8, -270.15]:\n",
    "        print(celsius_to_kelvin(temperature))\n",
    "\n",
    "The output of that would be:\n",
    "\n",
    ".. code-block:: python\n",
    "\n",
    "    282.25\n",
    "    281.95\n",
    "    3.0\n",
    "\n",
    "So, in the first iteration :p:`celsius_to_kelvin(9.1)` was executed, in the second :p:`celsius_to_kelvin(8.8)` and in the third :p:`celsius_to_kelvin(-270.15)`.\n",
    "\n",
    "Credit: *Python Mega Course* by Ardit Sulce"
   ]
  }
 ],
 "metadata": {
  "jupytext": {
   "cell_metadata_filter": "-all",
   "formats": "ipynb,md:myst",
   "main_language": "python",
   "notebook_metadata_filter": "-all"
  },
  "kernelspec": {
   "display_name": "Python 3 (ipykernel)",
   "language": "python",
   "name": "python3"
  },
  "language_info": {
   "codemirror_mode": {
    "name": "ipython",
    "version": 3
   },
   "file_extension": ".py",
   "mimetype": "text/x-python",
   "name": "python",
   "nbconvert_exporter": "python",
   "pygments_lexer": "ipython3",
   "version": "3.11.3"
  }
 },
 "nbformat": 4,
 "nbformat_minor": 5
}
