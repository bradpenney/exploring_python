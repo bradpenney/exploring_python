{
 "cells": [
  {
   "cell_type": "markdown",
   "id": "6b2028b6",
   "metadata": {},
   "source": [
    "# Looping Over a Function\n",
    "\n",
    "A `for` loop can also be used to execute a function multiple times. For example, below we are executing `celsius_to_kelvin` three times since there are three items in the iterating list:"
   ]
  },
  {
   "cell_type": "code",
   "execution_count": 1,
   "id": "2daf3906",
   "metadata": {},
   "outputs": [
    {
     "name": "stdout",
     "output_type": "stream",
     "text": [
      "282.25\n",
      "281.95\n",
      "3.0\n"
     ]
    }
   ],
   "source": [
    "def celsius_to_kelvin(cels):\n",
    "    return cels + 273.15\n",
    "    \n",
    "for temperature in [9.1, 8.8, -270.15]:\n",
    "    print(celsius_to_kelvin(temperature))"
   ]
  },
  {
   "cell_type": "markdown",
   "id": "714ff3c6",
   "metadata": {},
   "source": [
    "In the first iteration `celsius_to_kelvin(9.1)` was executed, in the second `celsius_to_kelvin(8.8)` and in the third `celsius_to_kelvin(-270.15)`.\n",
    "\n",
    "Credit: *Python Mega Course* by Ardit Sulce"
   ]
  }
 ],
 "metadata": {
  "jupytext": {
   "cell_metadata_filter": "-all",
   "formats": "md,ipynb",
   "main_language": "python",
   "notebook_metadata_filter": "-all"
  },
  "kernelspec": {
   "display_name": "Python 3 (ipykernel)",
   "language": "python",
   "name": "python3"
  },
  "language_info": {
   "codemirror_mode": {
    "name": "ipython",
    "version": 3
   },
   "file_extension": ".py",
   "mimetype": "text/x-python",
   "name": "python",
   "nbconvert_exporter": "python",
   "pygments_lexer": "ipython3",
   "version": "3.11.3"
  }
 },
 "nbformat": 4,
 "nbformat_minor": 5
}
