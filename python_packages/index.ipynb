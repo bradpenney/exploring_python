{
 "cells": [
  {
   "cell_type": "markdown",
   "id": "642e9e34-28be-48d0-a755-3c9e64b8368a",
   "metadata": {},
   "source": [
    "# Python Packages\n",
    "\n",
    "The [Python Package Index (PyPI)](https://pypi.org/) helps you find and intall Python packages developed and shared by the Python community.\n",
    "   \n",
    "- [`bokeh`](./bokeh.ipynb)\n",
    "- [`cryptography`](./cryptography.ipynb)\n",
    "- [`matplotlib`](./matplotlib.ipynb)\n",
    "- [`pandas`](./pandas.ipynb)\n",
    "- [`pygame`](./pygame.ipynb)\n"
   ]
  },
  {
   "cell_type": "code",
   "execution_count": null,
   "id": "0d2418eb-f2e7-4608-a0b8-c04f37a85625",
   "metadata": {},
   "outputs": [],
   "source": []
  }
 ],
 "metadata": {
  "kernelspec": {
   "display_name": "Python 3 (ipykernel)",
   "language": "python",
   "name": "python3"
  },
  "language_info": {
   "codemirror_mode": {
    "name": "ipython",
    "version": 3
   },
   "file_extension": ".py",
   "mimetype": "text/x-python",
   "name": "python",
   "nbconvert_exporter": "python",
   "pygments_lexer": "ipython3",
   "version": "3.11.4"
  }
 },
 "nbformat": 4,
 "nbformat_minor": 5
}
