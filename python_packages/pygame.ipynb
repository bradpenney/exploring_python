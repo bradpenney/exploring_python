{
 "cells": [
  {
   "cell_type": "markdown",
   "id": "a6ca0994-fc3e-4d52-9d0f-f94212021c9b",
   "metadata": {},
   "source": [
    "# `pygame` Package\n",
    "\n",
    "`pygame` is a free and open-source cross-platform library for developing multimedia applications like video games using Python.  The official website can be found at [PyGame](https://www.pygame.org/wiki/GettingStarted), and the official tutorials are located at [PyGame Tutorials](https://www.pygame.org/docs/).\n",
    "\n",
    "## Installing `pygame` with `pip`\n",
    "\n",
    "To install `pygame` on a Linux computer, enter `pip install pygame`.\n",
    "\n",
    "\n",
    "## PyGame for Beginners Tutorial\n",
    "\n",
    "\n",
    "[![PyGame for Beginners in 90 Minutes](https://img.youtube.com/vi/jO6qQDNa2UY/maxresdefault.jpg)](https://youtu.be/jO6qQDNa2UY)"
   ]
  }
 ],
 "metadata": {
  "kernelspec": {
   "display_name": "Python 3 (ipykernel)",
   "language": "python",
   "name": "python3"
  },
  "language_info": {
   "codemirror_mode": {
    "name": "ipython",
    "version": 3
   },
   "file_extension": ".py",
   "mimetype": "text/x-python",
   "name": "python",
   "nbconvert_exporter": "python",
   "pygments_lexer": "ipython3",
   "version": "3.11.4"
  }
 },
 "nbformat": 4,
 "nbformat_minor": 5
}
