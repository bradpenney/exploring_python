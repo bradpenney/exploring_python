{
 "cells": [
  {
   "cell_type": "markdown",
   "id": "32eee7ea-bbe4-4795-91c4-a9404fe913aa",
   "metadata": {},
   "source": [
    "# Welcome\n",
    "\n",
    "\n",
    "Learn Programming with Python introduces the fundamentals of programming using the Python programming language. In software development, logic is used to break down software instructions into manageable tasks and allow for problem-solving using computer code.  Python is an amazing language for beginners - and it is wildly popular and widely used in industry.  Its the ideal place to start learning and grow into a full-stack developer."
   ]
  }
 ],
 "metadata": {
  "kernelspec": {
   "display_name": "Python 3 (ipykernel)",
   "language": "python",
   "name": "python3"
  },
  "language_info": {
   "codemirror_mode": {
    "name": "ipython",
    "version": 3
   },
   "file_extension": ".py",
   "mimetype": "text/x-python",
   "name": "python",
   "nbconvert_exporter": "python",
   "pygments_lexer": "ipython3",
   "version": "3.11.4"
  }
 },
 "nbformat": 4,
 "nbformat_minor": 5
}
